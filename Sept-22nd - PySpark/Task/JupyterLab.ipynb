{
  "nbformat": 4,
  "nbformat_minor": 0,
  "metadata": {
    "colab": {
      "provenance": []
    },
    "kernelspec": {
      "name": "python3",
      "display_name": "Python 3"
    },
    "language_info": {
      "name": "python"
    }
  },
  "cells": [
    {
      "cell_type": "code",
      "execution_count": 1,
      "metadata": {
        "colab": {
          "base_uri": "https://localhost:8080/"
        },
        "id": "BY7epYHlZDNj",
        "outputId": "e4f89fa4-6068-4d19-cc37-d9c510d8266f"
      },
      "outputs": [
        {
          "output_type": "stream",
          "name": "stdout",
          "text": [
            "Requirement already satisfied: pandas in /usr/local/lib/python3.12/dist-packages (2.2.2)\n",
            "Requirement already satisfied: numpy>=1.26.0 in /usr/local/lib/python3.12/dist-packages (from pandas) (2.0.2)\n",
            "Requirement already satisfied: python-dateutil>=2.8.2 in /usr/local/lib/python3.12/dist-packages (from pandas) (2.9.0.post0)\n",
            "Requirement already satisfied: pytz>=2020.1 in /usr/local/lib/python3.12/dist-packages (from pandas) (2025.2)\n",
            "Requirement already satisfied: tzdata>=2022.7 in /usr/local/lib/python3.12/dist-packages (from pandas) (2025.2)\n",
            "Requirement already satisfied: six>=1.5 in /usr/local/lib/python3.12/dist-packages (from python-dateutil>=2.8.2->pandas) (1.17.0)\n"
          ]
        }
      ],
      "source": [
        "pip install pandas\n"
      ]
    },
    {
      "cell_type": "code",
      "source": [
        "pip install numpy\n"
      ],
      "metadata": {
        "colab": {
          "base_uri": "https://localhost:8080/"
        },
        "id": "hqrjuajgZM4W",
        "outputId": "8a30b3ad-34e6-4192-c3f3-23cc9a43fc44"
      },
      "execution_count": 2,
      "outputs": [
        {
          "output_type": "stream",
          "name": "stdout",
          "text": [
            "Requirement already satisfied: numpy in /usr/local/lib/python3.12/dist-packages (2.0.2)\n"
          ]
        }
      ]
    },
    {
      "cell_type": "markdown",
      "source": [
        "### Create a Student DataFrame using Pandas\n",
        "We can use **Pandas** to create a DataFrame containing student information:\n",
        "\n",
        "1. Define the data as a **dictionary**:  \n",
        "   - Columns: `Name`, `Age`, `Course`, `Marks`.  \n",
        "   - Each key maps to a list of values representing that column.  \n",
        "\n",
        "2. Convert the dictionary into a **Pandas DataFrame** using `pd.DataFrame(data)`.  \n",
        "\n",
        "3. Print the DataFrame using `print(df)` to see the tabular data.\n"
      ],
      "metadata": {
        "id": "en14dXP1Zl-M"
      }
    },
    {
      "cell_type": "code",
      "source": [
        "import pandas as pd\n",
        "import numpy as np\n",
        "\n",
        "data = {\n",
        "    \"Name\": [\"Rahul\", \"Priya\", \"Arjun\", \"Neha\", \"Vikram\"],\n",
        "    \"Age\": [21, 22, 20, 23, 21],\n",
        "    \"Course\": [\"AI\", \"ML\", \"Data Science\", \"AI\", \"ML\"],\n",
        "    \"Marks\": [85, 90, 78, 88, 95]\n",
        "}\n",
        "\n",
        "df = pd.DataFrame(data)\n",
        "print(df)"
      ],
      "metadata": {
        "colab": {
          "base_uri": "https://localhost:8080/"
        },
        "id": "mykWB2X-ZSAw",
        "outputId": "5af5d557-f553-4da7-821f-0cdb7c1d2036"
      },
      "execution_count": 3,
      "outputs": [
        {
          "output_type": "stream",
          "name": "stdout",
          "text": [
            "     Name  Age        Course  Marks\n",
            "0   Rahul   21            AI     85\n",
            "1   Priya   22            ML     90\n",
            "2   Arjun   20  Data Science     78\n",
            "3    Neha   23            AI     88\n",
            "4  Vikram   21            ML     95\n"
          ]
        }
      ]
    },
    {
      "cell_type": "markdown",
      "source": [
        "### Install Matplotlib\n",
        "To create visualizations in Python, we use **Matplotlib**.  \n",
        "\n",
        "- In Google Colab, we need to install it first using `pip install matplotlib`.\n"
      ],
      "metadata": {
        "id": "krMWyHxrZ1vL"
      }
    },
    {
      "cell_type": "code",
      "source": [
        "pip install matplotlib\n"
      ],
      "metadata": {
        "colab": {
          "base_uri": "https://localhost:8080/"
        },
        "id": "5dz0xocUZV63",
        "outputId": "ffbca52b-595e-48ea-ddb1-a027f06d04f1"
      },
      "execution_count": 4,
      "outputs": [
        {
          "output_type": "stream",
          "name": "stdout",
          "text": [
            "Requirement already satisfied: matplotlib in /usr/local/lib/python3.12/dist-packages (3.10.0)\n",
            "Requirement already satisfied: contourpy>=1.0.1 in /usr/local/lib/python3.12/dist-packages (from matplotlib) (1.3.3)\n",
            "Requirement already satisfied: cycler>=0.10 in /usr/local/lib/python3.12/dist-packages (from matplotlib) (0.12.1)\n",
            "Requirement already satisfied: fonttools>=4.22.0 in /usr/local/lib/python3.12/dist-packages (from matplotlib) (4.60.0)\n",
            "Requirement already satisfied: kiwisolver>=1.3.1 in /usr/local/lib/python3.12/dist-packages (from matplotlib) (1.4.9)\n",
            "Requirement already satisfied: numpy>=1.23 in /usr/local/lib/python3.12/dist-packages (from matplotlib) (2.0.2)\n",
            "Requirement already satisfied: packaging>=20.0 in /usr/local/lib/python3.12/dist-packages (from matplotlib) (25.0)\n",
            "Requirement already satisfied: pillow>=8 in /usr/local/lib/python3.12/dist-packages (from matplotlib) (11.3.0)\n",
            "Requirement already satisfied: pyparsing>=2.3.1 in /usr/local/lib/python3.12/dist-packages (from matplotlib) (3.2.4)\n",
            "Requirement already satisfied: python-dateutil>=2.7 in /usr/local/lib/python3.12/dist-packages (from matplotlib) (2.9.0.post0)\n",
            "Requirement already satisfied: six>=1.5 in /usr/local/lib/python3.12/dist-packages (from python-dateutil>=2.7->matplotlib) (1.17.0)\n"
          ]
        }
      ]
    },
    {
      "cell_type": "markdown",
      "source": [
        "### Visualize Average Marks by Course\n",
        "We can use **Matplotlib** (via Pandas plotting) to create a bar chart:\n",
        "\n",
        "1. **Group by Course** and calculate the mean marks:  \n",
        "   - `df.groupby(\"Course\")[\"Marks\"].mean()`  \n",
        "\n",
        "2. **Plot a bar chart** using `plot(kind=\"bar\")`  \n",
        "   - `color` → Set bar color.  \n",
        "   - `edgecolor` → Set border color of bars.  \n",
        "\n",
        "3. Add chart **title** and **axis labels**.  \n",
        "\n",
        "4. Rotate X-axis labels for better readability using `plt.xticks(rotation=45)`.  \n",
        "\n",
        "5. Use `plt.show()` to display the chart.\n"
      ],
      "metadata": {
        "id": "7LHgaQepZ30W"
      }
    },
    {
      "cell_type": "code",
      "source": [
        "import matplotlib.pyplot as plt\n",
        "\n",
        "# Group by Course and calculate mean\n",
        "avg_marks = df.groupby (\"Course\")[\"Marks\"].mean()\n",
        "\n",
        "# Plot bar chart\n",
        "avg_marks.plot(kind=\"bar\", color=\"skyblue\", edgecolor=\"black\")\n",
        "plt.title(\"Average Marks by Course - Yokesh\" )\n",
        "plt. xlabel (\"Course\")\n",
        "plt.ylabel (\"Average Marks\")\n",
        "plt.xticks(rotation=45)\n",
        "plt. show()"
      ],
      "metadata": {
        "colab": {
          "base_uri": "https://localhost:8080/",
          "height": 532
        },
        "id": "Shvg2HLnZbpZ",
        "outputId": "dab64776-b559-4ccc-962c-40bc562b7471"
      },
      "execution_count": 5,
      "outputs": [
        {
          "output_type": "display_data",
          "data": {
            "text/plain": [
              "<Figure size 640x480 with 1 Axes>"
            ],
            "image/png": "[encoded data removed]"
          },
          "metadata": {}
        }
      ]
    }
  ]
}