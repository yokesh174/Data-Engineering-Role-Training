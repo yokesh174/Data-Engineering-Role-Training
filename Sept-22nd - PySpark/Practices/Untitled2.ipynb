{
  "nbformat": 4,
  "nbformat_minor": 0,
  "metadata": {
    "colab": {
      "provenance": []
    },
    "kernelspec": {
      "name": "python3",
      "display_name": "Python 3"
    },
    "language_info": {
      "name": "python"
    }
  },
  "cells": [
    {
      "cell_type": "markdown",
      "source": [
        "### Working with JSON Data in Python\n",
        "Now let’s see how to handle JSON data:\n",
        "\n",
        "1. **Create JSON as a string**  \n",
        "   - We define a JSON array containing student records with `id`, `name`, `age`, and `city`.  \n",
        "\n",
        "2. **Parse JSON string into Python objects**  \n",
        "   - Use `json.loads(json_data)` to convert the JSON string into a Python **list of dictionaries**.  \n",
        "\n",
        "3. **Process the data**  \n",
        "   - Loop through the list and print each student’s details in a formatted way.\n"
      ],
      "metadata": {
        "id": "qPtOYLJLP8cl"
      }
    },
    {
      "cell_type": "code",
      "execution_count": null,
      "metadata": {
        "colab": {
          "base_uri": "https://localhost:8080/"
        },
        "id": "oSQ7aedOQ40J",
        "outputId": "9d484f5f-b772-446c-bff6-34f7fe3624a0"
      },
      "outputs": [
        {
          "output_type": "stream",
          "name": "stdout",
          "text": [
            "Student Records:\n",
            "1 - Rahul Sharma (Bangalore) → Age (21\n",
            "2 - Priya Singh (Delhi) → Age (22\n",
            "3 - Aman Kumar (Hyderabad) → Age (20\n"
          ]
        }
      ],
      "source": [
        "import json\n",
        "\n",
        "#Step 1: Create JSON as a string\n",
        "\n",
        "json_data = '''\n",
        "[\n",
        "  { \"id\": 1, \"name\": \"Rahul Sharma\", \"age\": 21, \"city\": \"Bangalore\" },\n",
        "  { \"id\": 2, \"name\": \"Priya Singh\", \"age\": 22, \"city\": \"Delhi\" },\n",
        "  { \"id\": 3, \"name\": \"Aman Kumar\", \"age\": 20, \"city\": \"Hyderabad\" }\n",
        "]\n",
        "'''\n",
        "\n",
        "# Step 2: Parse JSON string Python list of dictionaries\n",
        "\n",
        "students = json.loads(json_data)\n",
        "\n",
        "# Step 3: Process the data\n",
        "\n",
        "print(\"Student Records:\")\n",
        "\n",
        "for s in students:\n",
        "\n",
        "    print(f\"{s['id']} - {s['name']} ({s['city']}) → Age ({s['age']}\")"
      ]
    },
    {
      "cell_type": "markdown",
      "source": [
        "### Modify JSON Data in Python\n",
        "We can also **add, update, and convert JSON data** dynamically:\n",
        "\n",
        "1. **JSON data in memory**  \n",
        "   - Define a JSON string containing student records.  \n",
        "\n",
        "2. **Load JSON into Python list**  \n",
        "   - Use `json.loads()` to convert JSON string → Python list of dictionaries.  \n",
        "\n",
        "3. **Add a new student**  \n",
        "   - Append a new dictionary (student record) into the list.  \n",
        "\n",
        "4. **Update an existing student**  \n",
        "   - Loop through the list and modify the record (Rahul’s city is changed from *Bangalore* to *Pune*).  \n",
        "\n",
        "5. **Convert back to JSON string**  \n",
        "   - Use `json.dumps(students, indent=2)` to convert Python objects back into JSON format with indentation for readability.  \n",
        "\n",
        "6. **Print results**  \n",
        "   - Display the updated JSON.\n"
      ],
      "metadata": {
        "id": "d6RvSPPoQCkV"
      }
    },
    {
      "cell_type": "code",
      "source": [
        "import json\n",
        "\n",
        "#Step 1: JSON data in memory\n",
        "\n",
        "json_data = '''\n",
        "\n",
        "[\n",
        "\n",
        "  { \"id\": 1, \"name\": \"Rahul Sharma\", \"age\": 21, \"city\": \"Bangalore\" },\n",
        "\n",
        "  { \"id\": 2, \"name\": \"Priya Singh\", \"age\": 22, \"city\": \"Delhi\" }\n",
        "\n",
        "]\n",
        "\n",
        "'''\n",
        "\n",
        "#Step 2: Load JSON into Python list\n",
        "\n",
        "students = json.loads(json_data)\n",
        "\n",
        "#Step 3: Add a new student\n",
        "\n",
        "new_student = { \"id\": 3, \"name\": \"Aman Kumar\", \"age\": 20, \"city\": \"Hyderabad\" }\n",
        "\n",
        "students.append(new_student)\n",
        "\n",
        "#Step 4: Update an existing student\n",
        "\n",
        "for s in students:\n",
        "\n",
        "  if s[\"id\"] == 1:\n",
        "\n",
        "    s[\"city\"] = \"Pune\"\n",
        "\n",
        "#Rahul moved from Bangalore to Pune\n",
        "\n",
        "#Step 5: Convert back to JSON string\n",
        "\n",
        "updated_json = json.dumps(students, indent=2)\n",
        "\n",
        "#Print results\n",
        "\n",
        "print(\"Updated JSON Data:\\n\", updated_json)"
      ],
      "metadata": {
        "colab": {
          "base_uri": "https://localhost:8080/"
        },
        "id": "VAnVZtmdVXUe",
        "outputId": "656a3f75-541c-4e00-d03d-2cd9e67b2548"
      },
      "execution_count": null,
      "outputs": [
        {
          "output_type": "stream",
          "name": "stdout",
          "text": [
            "Updated JSON Data:\n",
            " [\n",
            "  {\n",
            "    \"id\": 1,\n",
            "    \"name\": \"Rahul Sharma\",\n",
            "    \"age\": 21,\n",
            "    \"city\": \"Pune\"\n",
            "  },\n",
            "  {\n",
            "    \"id\": 2,\n",
            "    \"name\": \"Priya Singh\",\n",
            "    \"age\": 22,\n",
            "    \"city\": \"Delhi\"\n",
            "  },\n",
            "  {\n",
            "    \"id\": 3,\n",
            "    \"name\": \"Aman Kumar\",\n",
            "    \"age\": 20,\n",
            "    \"city\": \"Hyderabad\"\n",
            "  }\n",
            "]\n"
          ]
        }
      ]
    }
  ]
}