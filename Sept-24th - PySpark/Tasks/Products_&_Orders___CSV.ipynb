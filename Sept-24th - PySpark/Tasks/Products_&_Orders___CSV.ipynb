{
  "nbformat": 4,
  "nbformat_minor": 0,
  "metadata": {
    "colab": {
      "provenance": []
    },
    "kernelspec": {
      "name": "python3",
      "display_name": "Python 3"
    },
    "language_info": {
      "name": "python"
    }
  },
  "cells": [
    {
      "cell_type": "markdown",
      "source": [
        "# 1️⃣ Create Sample CSV Files\n",
        "We will create sample CSV files for products and orders so we can work with them in PySpark.  \n",
        "\n",
        "- **products.csv** contains: product_id, name, price  \n",
        "- **orders.csv** contains: order_id, product_id, quantity, customer\n"
      ],
      "metadata": {
        "id": "HISKbqkMT-3W"
      }
    },
    {
      "cell_type": "code",
      "execution_count": 1,
      "metadata": {
        "colab": {
          "base_uri": "https://localhost:8080/"
        },
        "id": "LnhlzJ0nS-yC",
        "outputId": "baf4faba-2512-432a-ac11-e25475580912"
      },
      "outputs": [
        {
          "output_type": "stream",
          "name": "stdout",
          "text": [
            "CSV files created!\n"
          ]
        }
      ],
      "source": [
        "# Sample products.csv\n",
        "products_csv = \"\"\"\n",
        "product_id,name,price\n",
        "1,Pen,10\n",
        "2,Notebook,50\n",
        "3,Eraser,5\n",
        "4,Pencil,8\n",
        "\"\"\"\n",
        "\n",
        "with open(\"products.csv\", \"w\") as f:\n",
        "    f.write(products_csv)\n",
        "\n",
        "# Sample orders.csv\n",
        "orders_csv = \"\"\"\n",
        "order_id,product_id,quantity,customer\n",
        "101,1,10,Alice\n",
        "102,2,5,Bob\n",
        "103,1,7,Charlie\n",
        "104,3,20,Alice\n",
        "105,4,15,Bob\n",
        "106,2,10,Charlie\n",
        "\"\"\"\n",
        "\n",
        "with open(\"orders.csv\", \"w\") as f:\n",
        "    f.write(orders_csv)\n",
        "\n",
        "print(\"CSV files created!\")\n"
      ]
    },
    {
      "cell_type": "markdown",
      "source": [
        "# 2️⃣ PySpark Setup\n",
        "Install PySpark and create a SparkSession to work with DataFrames and perform operations.\n"
      ],
      "metadata": {
        "id": "9rLfP_frUCP7"
      }
    },
    {
      "cell_type": "code",
      "source": [
        "!pip install pyspark\n",
        "\n",
        "from pyspark.sql import SparkSession\n",
        "from pyspark.sql.functions import col, sum, avg\n",
        "\n",
        "# Create SparkSession\n",
        "spark = SparkSession.builder.appName(\"CSV_Example\").getOrCreate()\n"
      ],
      "metadata": {
        "colab": {
          "base_uri": "https://localhost:8080/"
        },
        "id": "BAGZ491kTRAE",
        "outputId": "c607d4cf-703d-4add-edd5-1d60efa120b9"
      },
      "execution_count": 2,
      "outputs": [
        {
          "output_type": "stream",
          "name": "stdout",
          "text": [
            "Requirement already satisfied: pyspark in /usr/local/lib/python3.12/dist-packages (3.5.1)\n",
            "Requirement already satisfied: py4j==0.10.9.7 in /usr/local/lib/python3.12/dist-packages (from pyspark) (0.10.9.7)\n"
          ]
        }
      ]
    },
    {
      "cell_type": "markdown",
      "source": [
        "# 3️⃣ Load CSV Files\n",
        "Load the CSV files into PySpark DataFrames and convert numeric columns to the correct types.  \n",
        "Also, display the data to verify it is loaded correctly.\n"
      ],
      "metadata": {
        "id": "9mBr_rAhUE99"
      }
    },
    {
      "cell_type": "code",
      "source": [
        "products_df = spark.read.option(\"header\", True).csv(\"products.csv\")\n",
        "orders_df = spark.read.option(\"header\", True).csv(\"orders.csv\")\n",
        "\n",
        "# Convert numeric columns to appropriate types\n",
        "products_df = products_df.withColumn(\"price\", col(\"price\").cast(\"float\"))\n",
        "orders_df = orders_df.withColumn(\"quantity\", col(\"quantity\").cast(\"int\"))\n",
        "\n",
        "# Display data\n",
        "products_df.show()\n",
        "orders_df.show()\n"
      ],
      "metadata": {
        "colab": {
          "base_uri": "https://localhost:8080/"
        },
        "id": "2DzePlmeTZ8c",
        "outputId": "fb96d02a-4cd2-4d6d-c5d6-4197678cde4d"
      },
      "execution_count": 3,
      "outputs": [
        {
          "output_type": "stream",
          "name": "stdout",
          "text": [
            "+----------+--------+-----+\n",
            "|product_id|    name|price|\n",
            "+----------+--------+-----+\n",
            "|         1|     Pen| 10.0|\n",
            "|         2|Notebook| 50.0|\n",
            "|         3|  Eraser|  5.0|\n",
            "|         4|  Pencil|  8.0|\n",
            "+----------+--------+-----+\n",
            "\n",
            "+--------+----------+--------+--------+\n",
            "|order_id|product_id|quantity|customer|\n",
            "+--------+----------+--------+--------+\n",
            "|     101|         1|      10|   Alice|\n",
            "|     102|         2|       5|     Bob|\n",
            "|     103|         1|       7| Charlie|\n",
            "|     104|         3|      20|   Alice|\n",
            "|     105|         4|      15|     Bob|\n",
            "|     106|         2|      10| Charlie|\n",
            "+--------+----------+--------+--------+\n",
            "\n"
          ]
        }
      ]
    },
    {
      "cell_type": "markdown",
      "source": [
        "# 4️⃣ Basic Operations\n",
        "Perform basic DataFrame operations:  \n",
        "- Select specific columns  \n",
        "- Filter rows based on conditions\n"
      ],
      "metadata": {
        "id": "qWfKqRN0UMKz"
      }
    },
    {
      "cell_type": "code",
      "source": [
        "# Select specific columns\n",
        "products_df.select(\"name\", \"price\").show()\n",
        "\n",
        "# Filter orders with quantity > 10\n",
        "orders_df.filter(col(\"quantity\") > 10).show()\n"
      ],
      "metadata": {
        "colab": {
          "base_uri": "https://localhost:8080/"
        },
        "id": "i4LlqBOfTl2k",
        "outputId": "6832ca85-f574-4c1e-d20a-ba9bdcd6fa0b"
      },
      "execution_count": 4,
      "outputs": [
        {
          "output_type": "stream",
          "name": "stdout",
          "text": [
            "+--------+-----+\n",
            "|    name|price|\n",
            "+--------+-----+\n",
            "|     Pen| 10.0|\n",
            "|Notebook| 50.0|\n",
            "|  Eraser|  5.0|\n",
            "|  Pencil|  8.0|\n",
            "+--------+-----+\n",
            "\n",
            "+--------+----------+--------+--------+\n",
            "|order_id|product_id|quantity|customer|\n",
            "+--------+----------+--------+--------+\n",
            "|     104|         3|      20|   Alice|\n",
            "|     105|         4|      15|     Bob|\n",
            "+--------+----------+--------+--------+\n",
            "\n"
          ]
        }
      ]
    },
    {
      "cell_type": "markdown",
      "source": [
        "# 5️⃣ Aggregations\n",
        "Perform aggregation operations on the DataFrames:  \n",
        "- Total quantity ordered  \n",
        "- Average product price\n"
      ],
      "metadata": {
        "id": "bH6yS067US8E"
      }
    },
    {
      "cell_type": "code",
      "source": [
        "# Total quantity ordered\n",
        "orders_df.groupBy().sum(\"quantity\").show()\n",
        "\n",
        "# Average product price\n",
        "products_df.agg(avg(\"price\").alias(\"average_price\")).show()\n"
      ],
      "metadata": {
        "colab": {
          "base_uri": "https://localhost:8080/"
        },
        "id": "V2xFoqwsTn5k",
        "outputId": "8911e5d2-8d8a-4080-f592-ce59ea882005"
      },
      "execution_count": 5,
      "outputs": [
        {
          "output_type": "stream",
          "name": "stdout",
          "text": [
            "+-------------+\n",
            "|sum(quantity)|\n",
            "+-------------+\n",
            "|           67|\n",
            "+-------------+\n",
            "\n",
            "+-------------+\n",
            "|average_price|\n",
            "+-------------+\n",
            "|        18.25|\n",
            "+-------------+\n",
            "\n"
          ]
        }
      ]
    },
    {
      "cell_type": "markdown",
      "source": [
        "# 6️⃣ SQL Operations\n",
        "Use Spark SQL to perform SQL queries on DataFrames registered as temporary views:  \n",
        "- Calculate total revenue per product  \n",
        "- Order results by revenue descending\n"
      ],
      "metadata": {
        "id": "YSfsCUJhUVbr"
      }
    },
    {
      "cell_type": "code",
      "source": [
        "# Register DataFrames as temp views\n",
        "products_df.createOrReplaceTempView(\"products\")\n",
        "orders_df.createOrReplaceTempView(\"orders\")\n",
        "\n",
        "# Total revenue per product\n",
        "spark.sql(\"\"\"\n",
        "    SELECT o.product_id, p.name, SUM(o.quantity * p.price) AS total_revenue\n",
        "    FROM orders o\n",
        "    JOIN products p ON o.product_id = p.product_id\n",
        "    GROUP BY o.product_id, p.name\n",
        "    ORDER BY total_revenue DESC\n",
        "\"\"\").show()\n"
      ],
      "metadata": {
        "colab": {
          "base_uri": "https://localhost:8080/"
        },
        "id": "0wcrRC3aTte0",
        "outputId": "e21f0dd3-4618-4582-a20b-0e05c11b64d2"
      },
      "execution_count": 6,
      "outputs": [
        {
          "output_type": "stream",
          "name": "stdout",
          "text": [
            "+----------+--------+-------------+\n",
            "|product_id|    name|total_revenue|\n",
            "+----------+--------+-------------+\n",
            "|         2|Notebook|        750.0|\n",
            "|         1|     Pen|        170.0|\n",
            "|         4|  Pencil|        120.0|\n",
            "|         3|  Eraser|        100.0|\n",
            "+----------+--------+-------------+\n",
            "\n"
          ]
        }
      ]
    },
    {
      "cell_type": "markdown",
      "source": [
        "# 7️⃣ Join Example\n",
        "Perform join operations between orders and products DataFrames:  \n",
        "- Inner join on product_id  \n",
        "- Combine information from both DataFrames\n"
      ],
      "metadata": {
        "id": "33FIV6c1UbSU"
      }
    },
    {
      "cell_type": "code",
      "source": [
        "# Inner join orders and products\n",
        "joined_df = orders_df.join(products_df, on=\"product_id\", how=\"inner\")\n",
        "joined_df.show()\n"
      ],
      "metadata": {
        "colab": {
          "base_uri": "https://localhost:8080/"
        },
        "id": "oRYdrqJwTx_N",
        "outputId": "e606e2ef-ae75-4d7f-95f1-0af0b55b7746"
      },
      "execution_count": 7,
      "outputs": [
        {
          "output_type": "stream",
          "name": "stdout",
          "text": [
            "+----------+--------+--------+--------+--------+-----+\n",
            "|product_id|order_id|quantity|customer|    name|price|\n",
            "+----------+--------+--------+--------+--------+-----+\n",
            "|         1|     101|      10|   Alice|     Pen| 10.0|\n",
            "|         2|     102|       5|     Bob|Notebook| 50.0|\n",
            "|         1|     103|       7| Charlie|     Pen| 10.0|\n",
            "|         3|     104|      20|   Alice|  Eraser|  5.0|\n",
            "|         4|     105|      15|     Bob|  Pencil|  8.0|\n",
            "|         2|     106|      10| Charlie|Notebook| 50.0|\n",
            "+----------+--------+--------+--------+--------+-----+\n",
            "\n"
          ]
        }
      ]
    },
    {
      "cell_type": "markdown",
      "source": [
        "# 8️⃣ Sorting & Grouping\n",
        "Group and sort data:  \n",
        "- Group orders by customer and sum the quantities  \n",
        "- Sort the results in descending order of total quantity\n"
      ],
      "metadata": {
        "id": "_nH_WXPYUetk"
      }
    },
    {
      "cell_type": "code",
      "source": [
        "# Group by customer and sum quantities, then sort descending\n",
        "customer_orders = orders_df.groupBy(\"customer\").sum(\"quantity\").orderBy(\"sum(quantity)\", ascending=False)\n",
        "customer_orders.show()\n"
      ],
      "metadata": {
        "colab": {
          "base_uri": "https://localhost:8080/"
        },
        "id": "bTqNeSOPT028",
        "outputId": "111b2ef9-54ab-47d4-9488-b83a70676a2c"
      },
      "execution_count": 8,
      "outputs": [
        {
          "output_type": "stream",
          "name": "stdout",
          "text": [
            "+--------+-------------+\n",
            "|customer|sum(quantity)|\n",
            "+--------+-------------+\n",
            "|   Alice|           30|\n",
            "|     Bob|           20|\n",
            "| Charlie|           17|\n",
            "+--------+-------------+\n",
            "\n"
          ]
        }
      ]
    }
  ]
}