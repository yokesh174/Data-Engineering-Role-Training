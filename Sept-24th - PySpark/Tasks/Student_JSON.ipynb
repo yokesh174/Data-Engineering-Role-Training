{
  "nbformat": 4,
  "nbformat_minor": 0,
  "metadata": {
    "colab": {
      "provenance": []
    },
    "kernelspec": {
      "name": "python3",
      "display_name": "Python 3"
    },
    "language_info": {
      "name": "python"
    }
  },
  "cells": [
    {
      "cell_type": "markdown",
      "source": [
        "# 🔹 Setup JSON Files (Student Example)\n",
        "We will create **students.json** and **marks.json** files.\n"
      ],
      "metadata": {
        "id": "RsklqyZvVS-_"
      }
    },
    {
      "cell_type": "code",
      "execution_count": 2,
      "metadata": {
        "id": "LkWTA6sSRlSH"
      },
      "outputs": [],
      "source": [
        "import json\n",
        "from pyspark.sql import SparkSession\n",
        "from pyspark.sql.functions import col, avg, sum, max\n",
        "\n",
        "# Create Spark session\n",
        "spark = SparkSession.builder.appName(\"Student-Example\").getOrCreate()\n",
        "\n",
        "# Students JSON\n",
        "students_data = [\n",
        "    {\"student_id\": 1, \"name\": \"Rahul\", \"age\": 20, \"department\": \"CSE\", \"city\": \"Delhi\"},\n",
        "    {\"student_id\": 2, \"name\": \"Priya\", \"age\": 22, \"department\": \"ECE\", \"city\": \"Mumbai\"},\n",
        "    {\"student_id\": 3, \"name\": \"Arjun\", \"age\": 21, \"department\": \"CSE\", \"city\": \"Bangalore\"},\n",
        "    {\"student_id\": 4, \"name\": \"Sneha\", \"age\": 23, \"department\": \"EEE\", \"city\": \"Chennai\"},\n",
        "    {\"student_id\": 5, \"name\": \"Divya\", \"age\": 20, \"department\": \"CSE\", \"city\": \"Delhi\"}\n",
        "]\n",
        "with open(\"students.json\", \"w\") as f:\n",
        "    json.dump(students_data, f)\n",
        "\n",
        "# Marks JSON\n",
        "marks_data = [\n",
        "    {\"exam_id\": 101, \"student_id\": 1, \"subject\": \"Math\", \"score\": 85},\n",
        "    {\"exam_id\": 102, \"student_id\": 2, \"subject\": \"Math\", \"score\": 78},\n",
        "    {\"exam_id\": 103, \"student_id\": 1, \"subject\": \"Physics\", \"score\": 90},\n",
        "    {\"exam_id\": 104, \"student_id\": 3, \"subject\": \"Chemistry\", \"score\": 70},\n",
        "    {\"exam_id\": 105, \"student_id\": 4, \"subject\": \"Math\", \"score\": 88},\n",
        "    {\"exam_id\": 106, \"student_id\": 5, \"subject\": \"Physics\", \"score\": 92},\n",
        "    {\"exam_id\": 107, \"student_id\": 6, \"subject\": \"Math\", \"score\": 60}  # non-existent student\n",
        "]\n",
        "with open(\"marks.json\", \"w\") as f:\n",
        "    json.dump(marks_data, f)\n",
        "\n",
        "# Load JSON into DataFrames\n",
        "students_df = spark.read.json(\"students.json\")\n",
        "marks_df = spark.read.json(\"marks.json\")\n"
      ]
    },
    {
      "cell_type": "markdown",
      "source": [
        "#  🔹  Basic Operations"
      ],
      "metadata": {
        "id": "yYyu8_T1VEqL"
      }
    },
    {
      "cell_type": "code",
      "source": [
        "# 1. Select name & department\n",
        "students_df.select(\"name\", \"department\").show()\n",
        "\n",
        "# 2. Filter students older than 21\n",
        "students_df.filter(col(\"age\") > 21).show()\n",
        "\n",
        "# 3. Distinct departments\n",
        "students_df.select(\"department\").distinct().show()\n"
      ],
      "metadata": {
        "colab": {
          "base_uri": "https://localhost:8080/"
        },
        "id": "S0woCUCXR8VE",
        "outputId": "7e25b953-80b5-4ac7-a99d-44721fcb97f8"
      },
      "execution_count": 3,
      "outputs": [
        {
          "output_type": "stream",
          "name": "stdout",
          "text": [
            "+-----+----------+\n",
            "| name|department|\n",
            "+-----+----------+\n",
            "|Rahul|       CSE|\n",
            "|Priya|       ECE|\n",
            "|Arjun|       CSE|\n",
            "|Sneha|       EEE|\n",
            "|Divya|       CSE|\n",
            "+-----+----------+\n",
            "\n",
            "+---+-------+----------+-----+----------+\n",
            "|age|   city|department| name|student_id|\n",
            "+---+-------+----------+-----+----------+\n",
            "| 22| Mumbai|       ECE|Priya|         2|\n",
            "| 23|Chennai|       EEE|Sneha|         4|\n",
            "+---+-------+----------+-----+----------+\n",
            "\n",
            "+----------+\n",
            "|department|\n",
            "+----------+\n",
            "|       ECE|\n",
            "|       CSE|\n",
            "|       EEE|\n",
            "+----------+\n",
            "\n"
          ]
        }
      ]
    },
    {
      "cell_type": "markdown",
      "source": [
        "#  🔹  **Aggregations**"
      ],
      "metadata": {
        "id": "qcvUcF4CU4Er"
      }
    },
    {
      "cell_type": "code",
      "source": [
        "# 1. Average student age\n",
        "students_df.agg(avg(\"age\")).show()\n",
        "\n",
        "# 2. Maximum exam score\n",
        "marks_df.agg(max(\"score\")).show()\n",
        "\n",
        "# 3. Total score per student\n",
        "marks_df.groupBy(\"student_id\").agg(sum(\"score\").alias(\"total_score\")).show()\n"
      ],
      "metadata": {
        "colab": {
          "base_uri": "https://localhost:8080/"
        },
        "id": "ZNhbQBT5R_mk",
        "outputId": "a8910789-83e1-473c-8c4b-e4c0ad75e833"
      },
      "execution_count": 4,
      "outputs": [
        {
          "output_type": "stream",
          "name": "stdout",
          "text": [
            "+--------+\n",
            "|avg(age)|\n",
            "+--------+\n",
            "|    21.2|\n",
            "+--------+\n",
            "\n",
            "+----------+\n",
            "|max(score)|\n",
            "+----------+\n",
            "|        92|\n",
            "+----------+\n",
            "\n",
            "+----------+-----------+\n",
            "|student_id|total_score|\n",
            "+----------+-----------+\n",
            "|         6|         60|\n",
            "|         5|         92|\n",
            "|         1|        175|\n",
            "|         3|         70|\n",
            "|         2|         78|\n",
            "|         4|         88|\n",
            "+----------+-----------+\n",
            "\n"
          ]
        }
      ]
    },
    {
      "cell_type": "markdown",
      "source": [
        "#  🔹  Join Example\n"
      ],
      "metadata": {
        "id": "k4Rwl6CsU2ZT"
      }
    },
    {
      "cell_type": "code",
      "source": [
        "# 1. Inner join students & marks\n",
        "students_df.join(marks_df, \"student_id\", \"inner\").show()\n",
        "\n",
        "# 2. Left join (all students, even without marks)\n",
        "students_df.join(marks_df, \"student_id\", \"left\").show()\n",
        "\n",
        "# 3. Marks with non-existent students\n",
        "marks_df.join(students_df, \"student_id\", \"left\") \\\n",
        "    .filter(col(\"name\").isNull()).show()\n"
      ],
      "metadata": {
        "colab": {
          "base_uri": "https://localhost:8080/"
        },
        "id": "fok1O2d4SJgL",
        "outputId": "bf6332e0-6419-461f-ae3b-b1098401f973"
      },
      "execution_count": 5,
      "outputs": [
        {
          "output_type": "stream",
          "name": "stdout",
          "text": [
            "+----------+---+---------+----------+-----+-------+-----+---------+\n",
            "|student_id|age|     city|department| name|exam_id|score|  subject|\n",
            "+----------+---+---------+----------+-----+-------+-----+---------+\n",
            "|         1| 20|    Delhi|       CSE|Rahul|    101|   85|     Math|\n",
            "|         2| 22|   Mumbai|       ECE|Priya|    102|   78|     Math|\n",
            "|         1| 20|    Delhi|       CSE|Rahul|    103|   90|  Physics|\n",
            "|         3| 21|Bangalore|       CSE|Arjun|    104|   70|Chemistry|\n",
            "|         4| 23|  Chennai|       EEE|Sneha|    105|   88|     Math|\n",
            "|         5| 20|    Delhi|       CSE|Divya|    106|   92|  Physics|\n",
            "+----------+---+---------+----------+-----+-------+-----+---------+\n",
            "\n",
            "+----------+---+---------+----------+-----+-------+-----+---------+\n",
            "|student_id|age|     city|department| name|exam_id|score|  subject|\n",
            "+----------+---+---------+----------+-----+-------+-----+---------+\n",
            "|         1| 20|    Delhi|       CSE|Rahul|    103|   90|  Physics|\n",
            "|         1| 20|    Delhi|       CSE|Rahul|    101|   85|     Math|\n",
            "|         2| 22|   Mumbai|       ECE|Priya|    102|   78|     Math|\n",
            "|         3| 21|Bangalore|       CSE|Arjun|    104|   70|Chemistry|\n",
            "|         4| 23|  Chennai|       EEE|Sneha|    105|   88|     Math|\n",
            "|         5| 20|    Delhi|       CSE|Divya|    106|   92|  Physics|\n",
            "+----------+---+---------+----------+-----+-------+-----+---------+\n",
            "\n",
            "+----------+-------+-----+-------+----+----+----------+----+\n",
            "|student_id|exam_id|score|subject| age|city|department|name|\n",
            "+----------+-------+-----+-------+----+----+----------+----+\n",
            "|         6|    107|   60|   Math|NULL|NULL|      NULL|NULL|\n",
            "+----------+-------+-----+-------+----+----+----------+----+\n",
            "\n"
          ]
        }
      ]
    },
    {
      "cell_type": "markdown",
      "source": [
        "# 🔹  Sorting & Grouping"
      ],
      "metadata": {
        "id": "FxN_cDszUn9k"
      }
    },
    {
      "cell_type": "code",
      "source": [
        "# 1. Students ordered by age (descending)\n",
        "students_df.orderBy(col(\"age\").desc()).show()\n",
        "\n",
        "# 2. Top 3 highest scores\n",
        "marks_df.orderBy(col(\"score\").desc()).limit(3).show()\n",
        "\n",
        "# 3. Average score per subject\n",
        "marks_df.groupBy(\"subject\").agg(avg(\"score\")).show()\n"
      ],
      "metadata": {
        "colab": {
          "base_uri": "https://localhost:8080/"
        },
        "id": "Ueo3ed-lSNID",
        "outputId": "23209b66-2b4e-44ed-8af4-5cbeb6f665b5"
      },
      "execution_count": 6,
      "outputs": [
        {
          "output_type": "stream",
          "name": "stdout",
          "text": [
            "+---+---------+----------+-----+----------+\n",
            "|age|     city|department| name|student_id|\n",
            "+---+---------+----------+-----+----------+\n",
            "| 23|  Chennai|       EEE|Sneha|         4|\n",
            "| 22|   Mumbai|       ECE|Priya|         2|\n",
            "| 21|Bangalore|       CSE|Arjun|         3|\n",
            "| 20|    Delhi|       CSE|Rahul|         1|\n",
            "| 20|    Delhi|       CSE|Divya|         5|\n",
            "+---+---------+----------+-----+----------+\n",
            "\n",
            "+-------+-----+----------+-------+\n",
            "|exam_id|score|student_id|subject|\n",
            "+-------+-----+----------+-------+\n",
            "|    106|   92|         5|Physics|\n",
            "|    103|   90|         1|Physics|\n",
            "|    105|   88|         4|   Math|\n",
            "+-------+-----+----------+-------+\n",
            "\n",
            "+---------+----------+\n",
            "|  subject|avg(score)|\n",
            "+---------+----------+\n",
            "|     Math|     77.75|\n",
            "|Chemistry|      70.0|\n",
            "|  Physics|      91.0|\n",
            "+---------+----------+\n",
            "\n"
          ]
        }
      ]
    },
    {
      "cell_type": "markdown",
      "source": [
        "#  🔹  SQL Operations\n"
      ],
      "metadata": {
        "id": "qEfZcexBUwAj"
      }
    },
    {
      "cell_type": "code",
      "source": [
        "students_df.createOrReplaceTempView(\"students\")\n",
        "marks_df.createOrReplaceTempView(\"marks\")\n",
        "\n",
        "# 1. Total score by city\n",
        "spark.sql(\"\"\"\n",
        "SELECT s.city, SUM(m.score) as total_score\n",
        "FROM students s\n",
        "JOIN marks m ON s.student_id = m.student_id\n",
        "GROUP BY s.city\n",
        "\"\"\").show()\n",
        "\n",
        "# 2. Top 2 students by total score\n",
        "spark.sql(\"\"\"\n",
        "SELECT s.name, SUM(m.score) as total_score\n",
        "FROM students s\n",
        "JOIN marks m ON s.student_id = m.student_id\n",
        "GROUP BY s.name\n",
        "ORDER BY total_score DESC\n",
        "LIMIT 2\n",
        "\"\"\").show()\n",
        "\n",
        "# 3. Students scoring >150 in total\n",
        "spark.sql(\"\"\"\n",
        "SELECT s.name, SUM(m.score) as total_score\n",
        "FROM students s\n",
        "JOIN marks m ON s.student_id = m.student_id\n",
        "GROUP BY s.name\n",
        "HAVING total_score > 150\n",
        "\"\"\").show()\n"
      ],
      "metadata": {
        "colab": {
          "base_uri": "https://localhost:8080/"
        },
        "id": "Bbj_Rz_zSQcc",
        "outputId": "a5c63829-abef-4ec1-ceb5-40f2273df963"
      },
      "execution_count": 7,
      "outputs": [
        {
          "output_type": "stream",
          "name": "stdout",
          "text": [
            "+---------+-----------+\n",
            "|     city|total_score|\n",
            "+---------+-----------+\n",
            "|Bangalore|         70|\n",
            "|  Chennai|         88|\n",
            "|   Mumbai|         78|\n",
            "|    Delhi|        267|\n",
            "+---------+-----------+\n",
            "\n",
            "+-----+-----------+\n",
            "| name|total_score|\n",
            "+-----+-----------+\n",
            "|Rahul|        175|\n",
            "|Divya|         92|\n",
            "+-----+-----------+\n",
            "\n",
            "+-----+-----------+\n",
            "| name|total_score|\n",
            "+-----+-----------+\n",
            "|Rahul|        175|\n",
            "+-----+-----------+\n",
            "\n"
          ]
        }
      ]
    }
  ]
}