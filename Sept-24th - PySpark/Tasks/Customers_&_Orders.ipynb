{
  "nbformat": 4,
  "nbformat_minor": 0,
  "metadata": {
    "colab": {
      "provenance": []
    },
    "kernelspec": {
      "name": "python3",
      "display_name": "Python 3"
    },
    "language_info": {
      "name": "python"
    }
  },
  "cells": [
    {
      "cell_type": "markdown",
      "source": [
        "# 🔹 Setup\n",
        "\n",
        "We first create two DataFrames:\n",
        "- `customers_df` → contains customer details (id, name, city, age)  \n",
        "- `orders_df` → contains order details (id, customer_id, product, amount)  \n"
      ],
      "metadata": {
        "id": "NZ-AN9UlNl4v"
      }
    },
    {
      "cell_type": "code",
      "execution_count": 9,
      "metadata": {
        "id": "PTvIznA5hX2M"
      },
      "outputs": [],
      "source": [
        "from pyspark.sql import SparkSession\n",
        "from pyspark.sql.functions import col, avg, max, min, count, sum\n",
        "\n",
        "spark = SparkSession.builder.appName(\"DataFrame-Exercises\").getOrCreate()\n",
        "\n",
        "# Customers Data\n",
        "customers_data = [\n",
        "    (1, \"Rahul Sharma\", \"Bangalore\", 28),\n",
        "    (2, \"Priya Singh\", \"Delhi\", 32),\n",
        "    (3, \"Aman Kumar\", \"Hyderabad\", 25),\n",
        "    (4, \"Sneha Reddy\", \"Chennai\", 35),\n",
        "    (5, \"Arjun Mehta\", \"Mumbai\", 30),\n",
        "    (6, \"Divya Nair\", \"Delhi\", 29)\n",
        "]\n",
        "customers_cols = [\"customer_id\", \"name\", \"city\", \"age\"]\n",
        "customers_df = spark.createDataFrame(customers_data, customers_cols)\n",
        "\n",
        "# Orders Data\n",
        "orders_data = [\n",
        "    (101, 1, \"Laptop\", 55000),\n",
        "    (102, 2, \"Mobile\", 25000),\n",
        "    (103, 1, \"Headphones\", 3000),\n",
        "    (104, 3, \"Chair\", 5000),\n",
        "    (105, 5, \"Book\", 700),\n",
        "    (106, 2, \"Tablet\", 20000),\n",
        "    (107, 6, \"Shoes\", 2500),\n",
        "    (108, 7, \"Camera\", 30000)   # non-existent customer\n",
        "]\n",
        "orders_cols = [\"order_id\", \"customer_id\", \"product\", \"amount\"]\n",
        "orders_df = spark.createDataFrame(orders_data, orders_cols)\n"
      ]
    },
    {
      "cell_type": "markdown",
      "source": [
        "## 🔹 Basic Operations\n",
        "Simple filtering, selecting, and counting tasks on the DataFrames.\n"
      ],
      "metadata": {
        "id": "a16CeGu2O94N"
      }
    },
    {
      "cell_type": "markdown",
      "source": [
        "### 1. Select only name and city\n"
      ],
      "metadata": {
        "id": "iMi_hSYTNqfh"
      }
    },
    {
      "cell_type": "code",
      "source": [
        "customers_df.select(\"name\", \"city\").show()\n"
      ],
      "metadata": {
        "colab": {
          "base_uri": "https://localhost:8080/"
        },
        "id": "VquoqvLZLveH",
        "outputId": "057fc2b6-c534-425e-8d5a-90601060b066"
      },
      "execution_count": 10,
      "outputs": [
        {
          "output_type": "stream",
          "name": "stdout",
          "text": [
            "+------------+---------+\n",
            "|        name|     city|\n",
            "+------------+---------+\n",
            "|Rahul Sharma|Bangalore|\n",
            "| Priya Singh|    Delhi|\n",
            "|  Aman Kumar|Hyderabad|\n",
            "| Sneha Reddy|  Chennai|\n",
            "| Arjun Mehta|   Mumbai|\n",
            "|  Divya Nair|    Delhi|\n",
            "+------------+---------+\n",
            "\n"
          ]
        }
      ]
    },
    {
      "cell_type": "markdown",
      "source": [
        "### 2. Filter customers older than 30\n"
      ],
      "metadata": {
        "id": "l5wE3UJCNv8H"
      }
    },
    {
      "cell_type": "code",
      "source": [
        "customers_df.filter(col(\"age\") > 30).show()\n"
      ],
      "metadata": {
        "colab": {
          "base_uri": "https://localhost:8080/"
        },
        "id": "UeA255i7LzTW",
        "outputId": "c13ad54b-6b2b-46b4-874c-97f90ac9682f"
      },
      "execution_count": 11,
      "outputs": [
        {
          "output_type": "stream",
          "name": "stdout",
          "text": [
            "+-----------+-----------+-------+---+\n",
            "|customer_id|       name|   city|age|\n",
            "+-----------+-----------+-------+---+\n",
            "|          2|Priya Singh|  Delhi| 32|\n",
            "|          4|Sneha Reddy|Chennai| 35|\n",
            "+-----------+-----------+-------+---+\n",
            "\n"
          ]
        }
      ]
    },
    {
      "cell_type": "markdown",
      "source": [
        "### 3. Count customers from Delhi\n"
      ],
      "metadata": {
        "id": "QTtya-VLNyRm"
      }
    },
    {
      "cell_type": "code",
      "source": [
        "customers_df.filter(col(\"city\") == \"Delhi\").count()\n"
      ],
      "metadata": {
        "colab": {
          "base_uri": "https://localhost:8080/"
        },
        "id": "qFBPEadoMC9f",
        "outputId": "7607aa89-71b9-4ba2-bf89-14f9082cbc5e"
      },
      "execution_count": 12,
      "outputs": [
        {
          "output_type": "execute_result",
          "data": {
            "text/plain": [
              "2"
            ]
          },
          "metadata": {},
          "execution_count": 12
        }
      ]
    },
    {
      "cell_type": "markdown",
      "source": [
        "### 4. Distinct cities\n"
      ],
      "metadata": {
        "id": "SGC-GjjcN2Ct"
      }
    },
    {
      "cell_type": "code",
      "source": [
        "customers_df.select(\"city\").distinct().show()\n"
      ],
      "metadata": {
        "colab": {
          "base_uri": "https://localhost:8080/"
        },
        "id": "g-r4hrJWMIWW",
        "outputId": "fc6c8ced-1ee4-4d0a-dec8-e13e100c9717"
      },
      "execution_count": 13,
      "outputs": [
        {
          "output_type": "stream",
          "name": "stdout",
          "text": [
            "+---------+\n",
            "|     city|\n",
            "+---------+\n",
            "|Bangalore|\n",
            "|    Delhi|\n",
            "|Hyderabad|\n",
            "|  Chennai|\n",
            "|   Mumbai|\n",
            "+---------+\n",
            "\n"
          ]
        }
      ]
    },
    {
      "cell_type": "markdown",
      "source": [
        "## 🔹 Aggregations\n",
        "Using aggregate functions like `avg()`, `min()`, `max()`, `count()`, and `sum()` to analyze data.\n"
      ],
      "metadata": {
        "id": "T2VXvV78MNF9"
      }
    },
    {
      "cell_type": "markdown",
      "source": [
        "### 5. Average age of customers\n"
      ],
      "metadata": {
        "id": "g-w8wXbKN7j2"
      }
    },
    {
      "cell_type": "code",
      "source": [
        "customers_df.agg(avg(\"age\")).show()\n"
      ],
      "metadata": {
        "colab": {
          "base_uri": "https://localhost:8080/"
        },
        "id": "zUPPymsZMJ3u",
        "outputId": "d6f4343a-41dd-4e1d-9021-173120d66722"
      },
      "execution_count": 14,
      "outputs": [
        {
          "output_type": "stream",
          "name": "stdout",
          "text": [
            "+------------------+\n",
            "|          avg(age)|\n",
            "+------------------+\n",
            "|29.833333333333332|\n",
            "+------------------+\n",
            "\n"
          ]
        }
      ]
    },
    {
      "cell_type": "markdown",
      "source": [
        "### 6. Maximum & minimum order amount\n"
      ],
      "metadata": {
        "id": "BKMJt5wHN-tO"
      }
    },
    {
      "cell_type": "code",
      "source": [
        "orders_df.agg(max(\"amount\"), min(\"amount\")).show()\n"
      ],
      "metadata": {
        "colab": {
          "base_uri": "https://localhost:8080/"
        },
        "id": "NTReohzZMWsl",
        "outputId": "812316e0-8f30-4195-fbff-032fddaebce4"
      },
      "execution_count": 15,
      "outputs": [
        {
          "output_type": "stream",
          "name": "stdout",
          "text": [
            "+-----------+-----------+\n",
            "|max(amount)|min(amount)|\n",
            "+-----------+-----------+\n",
            "|      55000|        700|\n",
            "+-----------+-----------+\n",
            "\n"
          ]
        }
      ]
    },
    {
      "cell_type": "markdown",
      "source": [
        "### 7. Count number of orders per customer\n"
      ],
      "metadata": {
        "id": "Nh4sjEDlOCDN"
      }
    },
    {
      "cell_type": "code",
      "source": [
        "orders_df.groupBy(\"customer_id\").count().show()\n"
      ],
      "metadata": {
        "colab": {
          "base_uri": "https://localhost:8080/"
        },
        "id": "_bfPjobyMgAf",
        "outputId": "55f8f1fa-7962-4891-95fb-6517563477ef"
      },
      "execution_count": 16,
      "outputs": [
        {
          "output_type": "stream",
          "name": "stdout",
          "text": [
            "+-----------+-----+\n",
            "|customer_id|count|\n",
            "+-----------+-----+\n",
            "|          1|    2|\n",
            "|          3|    1|\n",
            "|          2|    2|\n",
            "|          7|    1|\n",
            "|          6|    1|\n",
            "|          5|    1|\n",
            "+-----------+-----+\n",
            "\n"
          ]
        }
      ]
    },
    {
      "cell_type": "markdown",
      "source": [
        "### 8. Total spending per customer\n"
      ],
      "metadata": {
        "id": "I-PDY7IVOEb1"
      }
    },
    {
      "cell_type": "code",
      "source": [
        "orders_df.groupBy(\"customer_id\").agg(sum(\"amount\").alias(\"total_spent\")).show()\n"
      ],
      "metadata": {
        "colab": {
          "base_uri": "https://localhost:8080/"
        },
        "id": "VnPKpTWCMlg-",
        "outputId": "9f154c01-9011-4fad-be8b-afe87057a654"
      },
      "execution_count": 17,
      "outputs": [
        {
          "output_type": "stream",
          "name": "stdout",
          "text": [
            "+-----------+-----------+\n",
            "|customer_id|total_spent|\n",
            "+-----------+-----------+\n",
            "|          1|      58000|\n",
            "|          3|       5000|\n",
            "|          2|      45000|\n",
            "|          7|      30000|\n",
            "|          6|       2500|\n",
            "|          5|        700|\n",
            "+-----------+-----------+\n",
            "\n"
          ]
        }
      ]
    },
    {
      "cell_type": "markdown",
      "source": [
        "## 🔹 Joins\n",
        "Combining customers and orders with `inner`, `left` joins, and identifying missing records.\n"
      ],
      "metadata": {
        "id": "KihoH56DPIal"
      }
    },
    {
      "cell_type": "markdown",
      "source": [
        "### 9. Inner join customers & orders\n"
      ],
      "metadata": {
        "id": "_KjVV2VwOHG0"
      }
    },
    {
      "cell_type": "code",
      "source": [
        "customers_df.join(orders_df, \"customer_id\", \"inner\").show()\n"
      ],
      "metadata": {
        "colab": {
          "base_uri": "https://localhost:8080/"
        },
        "id": "IxkxcphIMnqd",
        "outputId": "a9bffa01-95b3-4123-d648-8cf061f12c43"
      },
      "execution_count": 18,
      "outputs": [
        {
          "output_type": "stream",
          "name": "stdout",
          "text": [
            "+-----------+------------+---------+---+--------+----------+------+\n",
            "|customer_id|        name|     city|age|order_id|   product|amount|\n",
            "+-----------+------------+---------+---+--------+----------+------+\n",
            "|          1|Rahul Sharma|Bangalore| 28|     101|    Laptop| 55000|\n",
            "|          1|Rahul Sharma|Bangalore| 28|     103|Headphones|  3000|\n",
            "|          2| Priya Singh|    Delhi| 32|     102|    Mobile| 25000|\n",
            "|          2| Priya Singh|    Delhi| 32|     106|    Tablet| 20000|\n",
            "|          3|  Aman Kumar|Hyderabad| 25|     104|     Chair|  5000|\n",
            "|          5| Arjun Mehta|   Mumbai| 30|     105|      Book|   700|\n",
            "|          6|  Divya Nair|    Delhi| 29|     107|     Shoes|  2500|\n",
            "+-----------+------------+---------+---+--------+----------+------+\n",
            "\n"
          ]
        }
      ]
    },
    {
      "cell_type": "markdown",
      "source": [
        "### 10. Left join (all customers, even without orders)\n"
      ],
      "metadata": {
        "id": "tQRwy4tEOK3F"
      }
    },
    {
      "cell_type": "code",
      "source": [
        "customers_df.join(orders_df, \"customer_id\", \"left\").show()\n"
      ],
      "metadata": {
        "colab": {
          "base_uri": "https://localhost:8080/"
        },
        "id": "gRMAg-jrMr1_",
        "outputId": "e87d86d3-cb2b-4d65-ef4d-e2d86f9230c1"
      },
      "execution_count": 19,
      "outputs": [
        {
          "output_type": "stream",
          "name": "stdout",
          "text": [
            "+-----------+------------+---------+---+--------+----------+------+\n",
            "|customer_id|        name|     city|age|order_id|   product|amount|\n",
            "+-----------+------------+---------+---+--------+----------+------+\n",
            "|          1|Rahul Sharma|Bangalore| 28|     103|Headphones|  3000|\n",
            "|          1|Rahul Sharma|Bangalore| 28|     101|    Laptop| 55000|\n",
            "|          3|  Aman Kumar|Hyderabad| 25|     104|     Chair|  5000|\n",
            "|          2| Priya Singh|    Delhi| 32|     106|    Tablet| 20000|\n",
            "|          2| Priya Singh|    Delhi| 32|     102|    Mobile| 25000|\n",
            "|          6|  Divya Nair|    Delhi| 29|     107|     Shoes|  2500|\n",
            "|          5| Arjun Mehta|   Mumbai| 30|     105|      Book|   700|\n",
            "|          4| Sneha Reddy|  Chennai| 35|    NULL|      NULL|  NULL|\n",
            "+-----------+------------+---------+---+--------+----------+------+\n",
            "\n"
          ]
        }
      ]
    },
    {
      "cell_type": "markdown",
      "source": [
        "### 11. Customers who never placed an order\n"
      ],
      "metadata": {
        "id": "52u-PAoJOM_9"
      }
    },
    {
      "cell_type": "code",
      "source": [
        "customers_df.join(orders_df, \"customer_id\", \"left\") \\\n",
        "    .filter(col(\"order_id\").isNull()).show()\n"
      ],
      "metadata": {
        "colab": {
          "base_uri": "https://localhost:8080/"
        },
        "id": "z-slQWNzMtht",
        "outputId": "90f3fd46-269d-4d53-ac74-40b0ed2103ad"
      },
      "execution_count": 20,
      "outputs": [
        {
          "output_type": "stream",
          "name": "stdout",
          "text": [
            "+-----------+-----------+-------+---+--------+-------+------+\n",
            "|customer_id|       name|   city|age|order_id|product|amount|\n",
            "+-----------+-----------+-------+---+--------+-------+------+\n",
            "|          4|Sneha Reddy|Chennai| 35|    NULL|   NULL|  NULL|\n",
            "+-----------+-----------+-------+---+--------+-------+------+\n",
            "\n"
          ]
        }
      ]
    },
    {
      "cell_type": "markdown",
      "source": [
        "### 12. Orders with non-existent customers\n"
      ],
      "metadata": {
        "id": "B9kI-pMvOO3l"
      }
    },
    {
      "cell_type": "code",
      "source": [
        "orders_df.join(customers_df, \"customer_id\", \"left\") \\\n",
        "    .filter(col(\"name\").isNull()).show()\n"
      ],
      "metadata": {
        "colab": {
          "base_uri": "https://localhost:8080/"
        },
        "id": "DteCUkpYMuq9",
        "outputId": "f46e8ee2-f6b1-4924-9ccf-0dd69816382f"
      },
      "execution_count": 21,
      "outputs": [
        {
          "output_type": "stream",
          "name": "stdout",
          "text": [
            "+-----------+--------+-------+------+----+----+----+\n",
            "|customer_id|order_id|product|amount|name|city| age|\n",
            "+-----------+--------+-------+------+----+----+----+\n",
            "|          7|     108| Camera| 30000|NULL|NULL|NULL|\n",
            "+-----------+--------+-------+------+----+----+----+\n",
            "\n"
          ]
        }
      ]
    },
    {
      "cell_type": "markdown",
      "source": [
        "## 🔹 Sorting & Grouping\n",
        "Sorting by values and grouping data with aggregate calculations.\n"
      ],
      "metadata": {
        "id": "YV9aXvsZPVCd"
      }
    },
    {
      "cell_type": "markdown",
      "source": [
        "### 13. Customers ordered by age (descending)\n"
      ],
      "metadata": {
        "id": "1pfgO2HNOSW9"
      }
    },
    {
      "cell_type": "code",
      "source": [
        "customers_df.orderBy(col(\"age\").desc()).show()\n"
      ],
      "metadata": {
        "colab": {
          "base_uri": "https://localhost:8080/"
        },
        "id": "SIgqTNb7Mw8W",
        "outputId": "accbf3ae-4f7c-4372-e521-35d3dc8cfe6d"
      },
      "execution_count": 22,
      "outputs": [
        {
          "output_type": "stream",
          "name": "stdout",
          "text": [
            "+-----------+------------+---------+---+\n",
            "|customer_id|        name|     city|age|\n",
            "+-----------+------------+---------+---+\n",
            "|          4| Sneha Reddy|  Chennai| 35|\n",
            "|          2| Priya Singh|    Delhi| 32|\n",
            "|          5| Arjun Mehta|   Mumbai| 30|\n",
            "|          6|  Divya Nair|    Delhi| 29|\n",
            "|          1|Rahul Sharma|Bangalore| 28|\n",
            "|          3|  Aman Kumar|Hyderabad| 25|\n",
            "+-----------+------------+---------+---+\n",
            "\n"
          ]
        }
      ]
    },
    {
      "cell_type": "markdown",
      "source": [
        "### 14. Top 3 highest order amounts\n"
      ],
      "metadata": {
        "id": "YWeZ-cgpOUdu"
      }
    },
    {
      "cell_type": "code",
      "source": [
        "orders_df.orderBy(col(\"amount\").desc()).limit(3).show()\n"
      ],
      "metadata": {
        "colab": {
          "base_uri": "https://localhost:8080/"
        },
        "id": "CXynbm_lMyYP",
        "outputId": "c5563c97-c865-45f3-9e01-56fddfe745ff"
      },
      "execution_count": 23,
      "outputs": [
        {
          "output_type": "stream",
          "name": "stdout",
          "text": [
            "+--------+-----------+-------+------+\n",
            "|order_id|customer_id|product|amount|\n",
            "+--------+-----------+-------+------+\n",
            "|     101|          1| Laptop| 55000|\n",
            "|     108|          7| Camera| 30000|\n",
            "|     102|          2| Mobile| 25000|\n",
            "+--------+-----------+-------+------+\n",
            "\n"
          ]
        }
      ]
    },
    {
      "cell_type": "markdown",
      "source": [
        "### 15. Group customers by city, find average age\n"
      ],
      "metadata": {
        "id": "Dyni2-qOOYE1"
      }
    },
    {
      "cell_type": "code",
      "source": [
        "customers_df.groupBy(\"city\").agg(avg(\"age\")).show()\n"
      ],
      "metadata": {
        "colab": {
          "base_uri": "https://localhost:8080/"
        },
        "id": "tN1UpxPKM1CQ",
        "outputId": "5729fcfe-0c0d-4b45-8dd4-e2ccc33e4f26"
      },
      "execution_count": 24,
      "outputs": [
        {
          "output_type": "stream",
          "name": "stdout",
          "text": [
            "+---------+--------+\n",
            "|     city|avg(age)|\n",
            "+---------+--------+\n",
            "|Bangalore|    28.0|\n",
            "|    Delhi|    30.5|\n",
            "|Hyderabad|    25.0|\n",
            "|  Chennai|    35.0|\n",
            "|   Mumbai|    30.0|\n",
            "+---------+--------+\n",
            "\n"
          ]
        }
      ]
    },
    {
      "cell_type": "markdown",
      "source": [
        "### 16. Group orders by product, find total sales amount\n"
      ],
      "metadata": {
        "id": "wzkN45oXOaYe"
      }
    },
    {
      "cell_type": "code",
      "source": [
        "orders_df.groupBy(\"product\").agg(sum(\"amount\")).show()\n"
      ],
      "metadata": {
        "colab": {
          "base_uri": "https://localhost:8080/"
        },
        "id": "bYT8MezcM2JO",
        "outputId": "2c69f8b2-4011-4fce-f165-ab33c729f2fb"
      },
      "execution_count": 25,
      "outputs": [
        {
          "output_type": "stream",
          "name": "stdout",
          "text": [
            "+----------+-----------+\n",
            "|   product|sum(amount)|\n",
            "+----------+-----------+\n",
            "|     Chair|       5000|\n",
            "|    Laptop|      55000|\n",
            "|    Mobile|      25000|\n",
            "|Headphones|       3000|\n",
            "|      Book|        700|\n",
            "|    Camera|      30000|\n",
            "|     Shoes|       2500|\n",
            "|    Tablet|      20000|\n",
            "+----------+-----------+\n",
            "\n"
          ]
        }
      ]
    },
    {
      "cell_type": "markdown",
      "source": [
        "## 🔹 SQL Operations\n",
        "Register DataFrames as temporary SQL views and perform queries using SQL syntax.\n"
      ],
      "metadata": {
        "id": "F0D9GcaLPZz0"
      }
    },
    {
      "cell_type": "markdown",
      "source": [
        "### 17. Register DataFrames as Temp Views\n"
      ],
      "metadata": {
        "id": "uRnYKaY-OdEt"
      }
    },
    {
      "cell_type": "code",
      "source": [
        "customers_df.createOrReplaceTempView(\"customers\")\n",
        "orders_df.createOrReplaceTempView(\"orders\")\n"
      ],
      "metadata": {
        "id": "w6mcg4oOM5gm"
      },
      "execution_count": 26,
      "outputs": []
    },
    {
      "cell_type": "markdown",
      "source": [
        "### 18. Total revenue by city\n"
      ],
      "metadata": {
        "id": "VijJYdEhOiBH"
      }
    },
    {
      "cell_type": "code",
      "source": [
        "spark.sql(\"\"\"\n",
        "SELECT c.city, SUM(o.amount) as total_revenue\n",
        "FROM customers c\n",
        "JOIN orders o ON c.customer_id = o.customer_id\n",
        "GROUP BY c.city\n",
        "\"\"\").show()\n"
      ],
      "metadata": {
        "colab": {
          "base_uri": "https://localhost:8080/"
        },
        "id": "BiX3we8jM9ro",
        "outputId": "10988ce1-1a5b-418e-c203-c40b2e9de132"
      },
      "execution_count": 27,
      "outputs": [
        {
          "output_type": "stream",
          "name": "stdout",
          "text": [
            "+---------+-------------+\n",
            "|     city|total_revenue|\n",
            "+---------+-------------+\n",
            "|Bangalore|        58000|\n",
            "|   Mumbai|          700|\n",
            "|    Delhi|        47500|\n",
            "|Hyderabad|         5000|\n",
            "+---------+-------------+\n",
            "\n"
          ]
        }
      ]
    },
    {
      "cell_type": "markdown",
      "source": [
        "### 19. Top 2 customers by total spend\n"
      ],
      "metadata": {
        "id": "-wf-s16bOmRP"
      }
    },
    {
      "cell_type": "code",
      "source": [
        "spark.sql(\"\"\"\n",
        "SELECT c.name, SUM(o.amount) as total_spent\n",
        "FROM customers c\n",
        "JOIN orders o ON c.customer_id = o.customer_id\n",
        "GROUP BY c.name\n",
        "ORDER BY total_spent DESC\n",
        "LIMIT 2\n",
        "\"\"\").show()\n"
      ],
      "metadata": {
        "colab": {
          "base_uri": "https://localhost:8080/"
        },
        "id": "p8fH62OGM_B9",
        "outputId": "0446950f-1b1e-46f3-cfa7-1f3840512bcb"
      },
      "execution_count": 28,
      "outputs": [
        {
          "output_type": "stream",
          "name": "stdout",
          "text": [
            "+------------+-----------+\n",
            "|        name|total_spent|\n",
            "+------------+-----------+\n",
            "|Rahul Sharma|      58000|\n",
            "| Priya Singh|      45000|\n",
            "+------------+-----------+\n",
            "\n"
          ]
        }
      ]
    },
    {
      "cell_type": "markdown",
      "source": [
        "### 20. Customers who spent more than 20,000\n"
      ],
      "metadata": {
        "id": "NDv1F3u6Onp-"
      }
    },
    {
      "cell_type": "code",
      "source": [
        "spark.sql(\"\"\"\n",
        "SELECT c.name, SUM(o.amount) as total_spent\n",
        "FROM customers c\n",
        "JOIN orders o ON c.customer_id = o.customer_id\n",
        "GROUP BY c.name\n",
        "HAVING total_spent > 20000\n",
        "\"\"\").show()\n"
      ],
      "metadata": {
        "colab": {
          "base_uri": "https://localhost:8080/"
        },
        "id": "986tp2WhNB0O",
        "outputId": "a1404cdf-8b63-4ac6-880d-6185ea59aabf"
      },
      "execution_count": 29,
      "outputs": [
        {
          "output_type": "stream",
          "name": "stdout",
          "text": [
            "+------------+-----------+\n",
            "|        name|total_spent|\n",
            "+------------+-----------+\n",
            "|Rahul Sharma|      58000|\n",
            "| Priya Singh|      45000|\n",
            "+------------+-----------+\n",
            "\n"
          ]
        }
      ]
    }
  ]
}