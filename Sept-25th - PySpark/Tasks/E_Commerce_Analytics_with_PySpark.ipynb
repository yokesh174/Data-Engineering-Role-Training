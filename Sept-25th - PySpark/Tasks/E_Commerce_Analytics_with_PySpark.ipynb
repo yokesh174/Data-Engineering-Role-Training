{
  "nbformat": 4,
  "nbformat_minor": 0,
  "metadata": {
    "colab": {
      "provenance": []
    },
    "kernelspec": {
      "name": "python3",
      "display_name": "Python 3"
    },
    "language_info": {
      "name": "python"
    }
  },
  "cells": [
    {
      "cell_type": "code",
      "execution_count": 3,
      "metadata": {
        "colab": {
          "base_uri": "https://localhost:8080/"
        },
        "id": "_dIz0DSOE5CO",
        "outputId": "7d186af5-6387-4260-80d4-42e05688f2fd"
      },
      "outputs": [
        {
          "output_type": "stream",
          "name": "stdout",
          "text": [
            "+-----------+------------+---------+---+\n",
            "|customer_id|        name|     city|age|\n",
            "+-----------+------------+---------+---+\n",
            "|          1|Rahul Sharma|Bangalore| 28|\n",
            "|          2| Priya Singh|    Delhi| 32|\n",
            "|          3|  Aman Kumar|Hyderabad| 25|\n",
            "|          4| Sneha Reddy|  Chennai| 35|\n",
            "|          5| Arjun Mehta|   Mumbai| 30|\n",
            "|          6|  Divya Nair|    Delhi| 29|\n",
            "+-----------+------------+---------+---+\n",
            "\n",
            "+----------+------------+-----------+-----+\n",
            "|product_id|product_name|   category|price|\n",
            "+----------+------------+-----------+-----+\n",
            "|       101|      Laptop|Electronics|55000|\n",
            "|       102|      Mobile|Electronics|25000|\n",
            "|       103|  Headphones|Electronics| 3000|\n",
            "|       104|       Chair|  Furniture| 5000|\n",
            "|       105|        Book| Stationery|  700|\n",
            "|       106|       Shoes|    Fashion| 2500|\n",
            "+----------+------------+-----------+-----+\n",
            "\n",
            "+--------+-----------+----------+--------+\n",
            "|order_id|customer_id|product_id|quantity|\n",
            "+--------+-----------+----------+--------+\n",
            "|    1001|          1|       101|       1|\n",
            "|    1002|          2|       102|       2|\n",
            "|    1003|          1|       103|       3|\n",
            "|    1004|          3|       104|       1|\n",
            "|    1005|          5|       105|       5|\n",
            "|    1006|          6|       106|       2|\n",
            "|    1007|          7|       101|       1|\n",
            "+--------+-----------+----------+--------+\n",
            "\n"
          ]
        }
      ],
      "source": [
        "from pyspark.sql import SparkSession\n",
        "from pyspark.sql import functions as F\n",
        "spark = SparkSession.builder.appName(\"ECommerce-Capstone\").getOrCreate()\n",
        "# Customers\n",
        "customers_data = [\n",
        "(1, \"Rahul Sharma\", \"Bangalore\", 28),\n",
        "(2, \"Priya Singh\", \"Delhi\", 32),\n",
        "(3, \"Aman Kumar\", \"Hyderabad\", 25),\n",
        "(4, \"Sneha Reddy\", \"Chennai\", 35),\n",
        "(5, \"Arjun Mehta\", \"Mumbai\", 30),\n",
        "(6, \"Divya Nair\", \"Delhi\", 29)\n",
        "]\n",
        "customers_cols = [\"customer_id\", \"name\", \"city\", \"age\"]\n",
        "customers_df = spark.createDataFrame(customers_data, customers_cols)\n",
        "# Products\n",
        "products_data = [\n",
        "(101, \"Laptop\", \"Electronics\", 55000),\n",
        "(102, \"Mobile\", \"Electronics\", 25000),\n",
        "(103, \"Headphones\", \"Electronics\", 3000),\n",
        "(104, \"Chair\", \"Furniture\", 5000),\n",
        "(105, \"Book\", \"Stationery\", 700),\n",
        "(106, \"Shoes\", \"Fashion\", 2500)\n",
        "]\n",
        "products_cols = [\"product_id\", \"product_name\", \"category\", \"price\"]\n",
        "products_df = spark.createDataFrame(products_data, products_cols)\n",
        "# Orders\n",
        "orders_data = [\n",
        "(1001, 1, 101, 1),\n",
        "(1002, 2, 102, 2),\n",
        "(1003, 1, 103, 3),\n",
        "(1004, 3, 104, 1),\n",
        "(1005, 5, 105, 5),\n",
        "(1006, 6, 106, 2),\n",
        "(1007, 7, 101, 1) # Order with non-existent customer\n",
        "]\n",
        "orders_cols = [\"order_id\", \"customer_id\", \"product_id\", \"quantity\"]\n",
        "orders_df = spark.createDataFrame(orders_data, orders_cols)\n",
        "customers_df.show()\n",
        "products_df.show()\n",
        "orders_df.show()"
      ]
    },
    {
      "cell_type": "markdown",
      "source": [
        "## 🔹 Basic Operations\n",
        "1. Select all customer names and cities  \n",
        "2. List all distinct product categories  \n",
        "3. Filter customers older than 30  \n"
      ],
      "metadata": {
        "id": "HAsPguQQQUC5"
      }
    },
    {
      "cell_type": "code",
      "source": [
        "# 1️⃣ Select all customer names and their cities\n",
        "customers_df.select(\"name\", \"city\").show()\n",
        "\n",
        "# 2️⃣ List all distinct product categories\n",
        "products_df.select(\"category\").distinct().show()\n",
        "\n",
        "# 3️⃣ Filter customers older than 30\n",
        "customers_df.filter(F.col(\"age\") > 30).show()\n"
      ],
      "metadata": {
        "colab": {
          "base_uri": "https://localhost:8080/"
        },
        "id": "jL5CrSnAQUy1",
        "outputId": "9874cfb1-6529-4db7-d133-2ef4ec943896"
      },
      "execution_count": 11,
      "outputs": [
        {
          "output_type": "stream",
          "name": "stdout",
          "text": [
            "+------------+---------+\n",
            "|        name|     city|\n",
            "+------------+---------+\n",
            "|Rahul Sharma|Bangalore|\n",
            "| Priya Singh|    Delhi|\n",
            "|  Aman Kumar|Hyderabad|\n",
            "| Sneha Reddy|  Chennai|\n",
            "| Arjun Mehta|   Mumbai|\n",
            "|  Divya Nair|    Delhi|\n",
            "+------------+---------+\n",
            "\n",
            "+-----------+\n",
            "|   category|\n",
            "+-----------+\n",
            "|Electronics|\n",
            "| Stationery|\n",
            "|    Fashion|\n",
            "|  Furniture|\n",
            "+-----------+\n",
            "\n",
            "+-----------+-----------+-------+---+\n",
            "|customer_id|       name|   city|age|\n",
            "+-----------+-----------+-------+---+\n",
            "|          2|Priya Singh|  Delhi| 32|\n",
            "|          4|Sneha Reddy|Chennai| 35|\n",
            "+-----------+-----------+-------+---+\n",
            "\n"
          ]
        }
      ]
    },
    {
      "cell_type": "markdown",
      "source": [
        "## 🔹 Aggregations\n",
        "4. Find the total number of orders placed per customer  \n",
        "5. Find the average age of customers per city  \n",
        "6. Calculate the total revenue generated from each product  \n"
      ],
      "metadata": {
        "id": "H6_m_G-FRExN"
      }
    },
    {
      "cell_type": "code",
      "source": [
        "# 4️⃣ Find the total number of orders placed per customer\n",
        "orders_df.groupBy(\"customer_id\") \\\n",
        "    .agg(F.count(\"order_id\").alias(\"orders_count\")) \\\n",
        "    .show()\n",
        "\n",
        "# 5️⃣ Find the average age of customers per city\n",
        "customers_df.groupBy(\"city\") \\\n",
        "    .agg(F.round(F.avg(\"age\"),2).alias(\"avg_age\")) \\\n",
        "    .show()\n",
        "\n",
        "# 6️⃣ Calculate the total revenue generated from each product\n",
        "orders_products = orders_df.join(products_df, \"product_id\", \"left\") \\\n",
        "    .withColumn(\"revenue\", F.col(\"price\") * F.col(\"quantity\"))\n",
        "\n",
        "orders_products.groupBy(\"product_id\", \"product_name\") \\\n",
        "    .agg(F.sum(\"revenue\").alias(\"total_revenue\")) \\\n",
        "    .show()\n"
      ],
      "metadata": {
        "colab": {
          "base_uri": "https://localhost:8080/"
        },
        "id": "LTRHXnh7RK5V",
        "outputId": "2e831b71-a2ce-4e4b-dace-686696d54865"
      },
      "execution_count": 5,
      "outputs": [
        {
          "output_type": "stream",
          "name": "stdout",
          "text": [
            "+-----------+------------+\n",
            "|customer_id|orders_count|\n",
            "+-----------+------------+\n",
            "|          1|           2|\n",
            "|          2|           1|\n",
            "|          7|           1|\n",
            "|          6|           1|\n",
            "|          5|           1|\n",
            "|          3|           1|\n",
            "+-----------+------------+\n",
            "\n",
            "+---------+-------+\n",
            "|     city|avg_age|\n",
            "+---------+-------+\n",
            "|Bangalore|   28.0|\n",
            "|    Delhi|   30.5|\n",
            "|Hyderabad|   25.0|\n",
            "|  Chennai|   35.0|\n",
            "|   Mumbai|   30.0|\n",
            "+---------+-------+\n",
            "\n",
            "+----------+------------+-------------+\n",
            "|product_id|product_name|total_revenue|\n",
            "+----------+------------+-------------+\n",
            "|       103|  Headphones|         9000|\n",
            "|       101|      Laptop|       110000|\n",
            "|       102|      Mobile|        50000|\n",
            "|       104|       Chair|         5000|\n",
            "|       106|       Shoes|         5000|\n",
            "|       105|        Book|         3500|\n",
            "+----------+------------+-------------+\n",
            "\n"
          ]
        }
      ]
    },
    {
      "cell_type": "markdown",
      "source": [
        "## 🔹 Joins\n",
        "7. Join customers with orders to list which customer bought what  \n",
        "8. Join orders with products to get order details with product name and price  \n",
        "9. Find all customers who have never placed an order  \n",
        "10. Find all products that have never been ordered  \n"
      ],
      "metadata": {
        "id": "famJMffiRQcG"
      }
    },
    {
      "cell_type": "code",
      "source": [
        "# 7️⃣ Join customers with orders to list which customer bought what\n",
        "customers_df.join(orders_df, \"customer_id\", \"left\") \\\n",
        "    .select(\"customer_id\", \"name\", \"order_id\", \"product_id\", \"quantity\") \\\n",
        "    .show()\n",
        "\n",
        "# 8️⃣ Join orders with products to get order details with product name and price\n",
        "orders_df.join(products_df, \"product_id\", \"left\") \\\n",
        "    .select(\"order_id\", \"customer_id\", \"product_name\", \"price\", \"quantity\") \\\n",
        "    .show()\n",
        "\n",
        "# 9️⃣ Find all customers who have never placed an order\n",
        "customers_df.join(orders_df, \"customer_id\", \"left_anti\").show()\n",
        "\n",
        "# 🔟 Find all products that have never been ordered\n",
        "products_df.join(orders_df, \"product_id\", \"left_anti\").show()\n"
      ],
      "metadata": {
        "colab": {
          "base_uri": "https://localhost:8080/"
        },
        "id": "FCJ-YSBMRSDO",
        "outputId": "187fe3d2-162e-4888-ffae-19588b6bc4a5"
      },
      "execution_count": 6,
      "outputs": [
        {
          "output_type": "stream",
          "name": "stdout",
          "text": [
            "+-----------+------------+--------+----------+--------+\n",
            "|customer_id|        name|order_id|product_id|quantity|\n",
            "+-----------+------------+--------+----------+--------+\n",
            "|          1|Rahul Sharma|    1003|       103|       3|\n",
            "|          1|Rahul Sharma|    1001|       101|       1|\n",
            "|          3|  Aman Kumar|    1004|       104|       1|\n",
            "|          2| Priya Singh|    1002|       102|       2|\n",
            "|          6|  Divya Nair|    1006|       106|       2|\n",
            "|          5| Arjun Mehta|    1005|       105|       5|\n",
            "|          4| Sneha Reddy|    NULL|      NULL|    NULL|\n",
            "+-----------+------------+--------+----------+--------+\n",
            "\n",
            "+--------+-----------+------------+-----+--------+\n",
            "|order_id|customer_id|product_name|price|quantity|\n",
            "+--------+-----------+------------+-----+--------+\n",
            "|    1003|          1|  Headphones| 3000|       3|\n",
            "|    1001|          1|      Laptop|55000|       1|\n",
            "|    1002|          2|      Mobile|25000|       2|\n",
            "|    1004|          3|       Chair| 5000|       1|\n",
            "|    1006|          6|       Shoes| 2500|       2|\n",
            "|    1005|          5|        Book|  700|       5|\n",
            "|    1007|          7|      Laptop|55000|       1|\n",
            "+--------+-----------+------------+-----+--------+\n",
            "\n",
            "+-----------+-----------+-------+---+\n",
            "|customer_id|       name|   city|age|\n",
            "+-----------+-----------+-------+---+\n",
            "|          4|Sneha Reddy|Chennai| 35|\n",
            "+-----------+-----------+-------+---+\n",
            "\n",
            "+----------+------------+--------+-----+\n",
            "|product_id|product_name|category|price|\n",
            "+----------+------------+--------+-----+\n",
            "+----------+------------+--------+-----+\n",
            "\n"
          ]
        }
      ]
    },
    {
      "cell_type": "markdown",
      "source": [
        "## 🔹 Sorting & Grouping\n",
        "11. Show the top 3 most expensive products purchased  \n",
        "12. Group orders by category and calculate total revenue per category  \n",
        "13. List customers sorted by total money spent (highest first)  \n"
      ],
      "metadata": {
        "id": "FTS_D3b5RWHV"
      }
    },
    {
      "cell_type": "code",
      "source": [
        "# 1️⃣1️⃣ Show the top 3 most expensive products purchased\n",
        "orders_df.join(products_df, \"product_id\", \"inner\") \\\n",
        "    .select(\"product_id\", \"product_name\", \"price\") \\\n",
        "    .distinct() \\\n",
        "    .orderBy(F.col(\"price\").desc()) \\\n",
        "    .limit(3) \\\n",
        "    .show()\n",
        "\n",
        "# 1️⃣2️⃣ Group orders by category and calculate total revenue per category\n",
        "orders_df.join(products_df, \"product_id\", \"left\") \\\n",
        "    .withColumn(\"revenue\", F.col(\"price\") * F.col(\"quantity\")) \\\n",
        "    .groupBy(\"category\") \\\n",
        "    .agg(F.sum(\"revenue\").alias(\"total_revenue\")) \\\n",
        "    .orderBy(F.col(\"total_revenue\").desc()) \\\n",
        "    .show()\n",
        "\n",
        "# 1️⃣3️⃣ List customers sorted by total money spent (highest first)\n",
        "spending_per_customer = orders_df.join(products_df, \"product_id\", \"left\") \\\n",
        "    .withColumn(\"revenue\", F.col(\"price\") * F.col(\"quantity\")) \\\n",
        "    .groupBy(\"customer_id\") \\\n",
        "    .agg(F.sum(\"revenue\").alias(\"total_spent\"))\n",
        "\n",
        "spending_per_customer.join(customers_df, \"customer_id\", \"left\") \\\n",
        "    .select(\"customer_id\", \"name\", \"total_spent\") \\\n",
        "    .orderBy(F.col(\"total_spent\").desc_nulls_last()) \\\n",
        "    .show()\n"
      ],
      "metadata": {
        "colab": {
          "base_uri": "https://localhost:8080/"
        },
        "id": "Fygyaq-nRaKM",
        "outputId": "d478e86c-70a7-46d8-d04c-c4211817e5b8"
      },
      "execution_count": 7,
      "outputs": [
        {
          "output_type": "stream",
          "name": "stdout",
          "text": [
            "+----------+------------+-----+\n",
            "|product_id|product_name|price|\n",
            "+----------+------------+-----+\n",
            "|       101|      Laptop|55000|\n",
            "|       102|      Mobile|25000|\n",
            "|       104|       Chair| 5000|\n",
            "+----------+------------+-----+\n",
            "\n",
            "+-----------+-------------+\n",
            "|   category|total_revenue|\n",
            "+-----------+-------------+\n",
            "|Electronics|       169000|\n",
            "|    Fashion|         5000|\n",
            "|  Furniture|         5000|\n",
            "| Stationery|         3500|\n",
            "+-----------+-------------+\n",
            "\n",
            "+-----------+------------+-----------+\n",
            "|customer_id|        name|total_spent|\n",
            "+-----------+------------+-----------+\n",
            "|          1|Rahul Sharma|      64000|\n",
            "|          7|        NULL|      55000|\n",
            "|          2| Priya Singh|      50000|\n",
            "|          6|  Divya Nair|       5000|\n",
            "|          3|  Aman Kumar|       5000|\n",
            "|          5| Arjun Mehta|       3500|\n",
            "+-----------+------------+-----------+\n",
            "\n"
          ]
        }
      ]
    },
    {
      "cell_type": "markdown",
      "source": [
        "## 🔹 SQL Queries\n",
        "14. Register all three DataFrames as temp views (customers, products, orders)  \n",
        "15. Find the top 2 cities by total revenue  \n",
        "16. Find customers who spent more than 50,000 in total  \n",
        "17. Find which product category contributes the most revenue  \n"
      ],
      "metadata": {
        "id": "HLpyhG6aRhCM"
      }
    },
    {
      "cell_type": "code",
      "source": [
        "# 1️⃣4️⃣ Register DataFrames as temp views\n",
        "customers_df.createOrReplaceTempView(\"customers\")\n",
        "products_df.createOrReplaceTempView(\"products\")\n",
        "orders_df.createOrReplaceTempView(\"orders\")\n",
        "\n",
        "# 1️⃣5️⃣ Find the top 2 cities by total revenue\n",
        "spark.sql(\"\"\"\n",
        "SELECT c.city, SUM(p.price * o.quantity) AS total_revenue\n",
        "FROM orders o\n",
        "JOIN products p ON o.product_id = p.product_id\n",
        "JOIN customers c ON o.customer_id = c.customer_id\n",
        "GROUP BY c.city\n",
        "ORDER BY total_revenue DESC\n",
        "LIMIT 2\n",
        "\"\"\").show()\n",
        "\n",
        "# 1️⃣6️⃣ Find customers who spent more than 50,000 in total\n",
        "spark.sql(\"\"\"\n",
        "SELECT c.customer_id, c.name, SUM(p.price * o.quantity) AS total_spent\n",
        "FROM orders o\n",
        "JOIN products p ON o.product_id = p.product_id\n",
        "JOIN customers c ON o.customer_id = c.customer_id\n",
        "GROUP BY c.customer_id, c.name\n",
        "HAVING SUM(p.price * o.quantity) > 50000\n",
        "\"\"\").show()\n",
        "\n",
        "# 1️⃣7️⃣ Find which product category contributes the most revenue\n",
        "spark.sql(\"\"\"\n",
        "SELECT p.category, SUM(p.price * o.quantity) AS category_revenue\n",
        "FROM orders o\n",
        "JOIN products p ON o.product_id = p.product_id\n",
        "GROUP BY p.category\n",
        "ORDER BY category_revenue DESC\n",
        "LIMIT 1\n",
        "\"\"\").show()\n"
      ],
      "metadata": {
        "colab": {
          "base_uri": "https://localhost:8080/"
        },
        "id": "vSaPsvPrRoJl",
        "outputId": "e2c7d88e-50f3-4b8a-8d31-45218ff94c3d"
      },
      "execution_count": 8,
      "outputs": [
        {
          "output_type": "stream",
          "name": "stdout",
          "text": [
            "+---------+-------------+\n",
            "|     city|total_revenue|\n",
            "+---------+-------------+\n",
            "|Bangalore|        64000|\n",
            "|    Delhi|        55000|\n",
            "+---------+-------------+\n",
            "\n",
            "+-----------+------------+-----------+\n",
            "|customer_id|        name|total_spent|\n",
            "+-----------+------------+-----------+\n",
            "|          1|Rahul Sharma|      64000|\n",
            "+-----------+------------+-----------+\n",
            "\n",
            "+-----------+----------------+\n",
            "|   category|category_revenue|\n",
            "+-----------+----------------+\n",
            "|Electronics|          169000|\n",
            "+-----------+----------------+\n",
            "\n"
          ]
        }
      ]
    }
  ]
}