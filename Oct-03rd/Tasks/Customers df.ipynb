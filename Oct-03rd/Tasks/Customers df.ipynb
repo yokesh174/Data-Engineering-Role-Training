{
 "cells": [
  {
   "cell_type": "code",
   "execution_count": 0,
   "metadata": {
    "application/vnd.databricks.v1+cell": {
     "cellMetadata": {
      "byteLimit": 2048000,
      "rowLimit": 10000
     },
     "inputWidgets": {},
     "nuid": "5c9f0811-6d2e-4f3e-aa83-2e64de28e0e1",
     "showTitle": false,
     "tableResultSettingsMap": {},
     "title": ""
    }
   },
   "outputs": [
    {
     "output_type": "stream",
     "name": "stdout",
     "output_type": "stream",
     "text": [
      "Requirement already satisfied: pyspark in /local_disk0/.ephemeral_nfs/envs/pythonEnv-480cd8b1-795e-439a-8b2a-99c036dd81b7/lib/python3.12/site-packages (4.0.1)\nRequirement already satisfied: py4j==0.10.9.9 in /local_disk0/.ephemeral_nfs/envs/pythonEnv-480cd8b1-795e-439a-8b2a-99c036dd81b7/lib/python3.12/site-packages (from pyspark) (0.10.9.9)\n\u001B[43mNote: you may need to restart the kernel using %restart_python or dbutils.library.restartPython() to use updated packages.\u001B[0m\ncustomers\n+-----------+-----+---------+---+\n|customer_id| name|     city|age|\n+-----------+-----+---------+---+\n|          1|Rahul|Bangalore| 25|\n|          2|Priya|    Delhi| 32|\n|          3| Aman|Hyderabad| 29|\n|          4|Sneha|  Chennai| 35|\n+-----------+-----+---------+---+\n\norders\n+--------+-----------+----------+------+\n|order_id|customer_id|   product|amount|\n+--------+-----------+----------+------+\n|     101|          1|    Laptop| 55000|\n|     102|          2|    Mobile| 25000|\n|     103|          1|Headphones|  3000|\n|     104|          3|      Book|   700|\n|     105|          4|     Chair|  5000|\n|     106|          2|     Shoes|  2000|\n+--------+-----------+----------+------+\n\n"
     ]
    }
   ],
   "source": [
    "!pip install pyspark\n",
    "from pyspark.sql import SparkSession\n",
    "from pyspark.sql import functions as F\n",
    "spark = SparkSession.builder.appName(\"RetailStoreAnalysis\").getOrCreate()\n",
    "customers_data = [\n",
    "    (1, \"Rahul\", \"Bangalore\", 25),\n",
    "    (2, \"Priya\", \"Delhi\", 32),\n",
    "    (3, \"Aman\", \"Hyderabad\", 29),\n",
    "    (4, \"Sneha\", \"Chennai\", 35)\n",
    "]\n",
    "customers_cols = [\"customer_id\", \"name\", \"city\", \"age\"]\n",
    "\n",
    "orders_data = [\n",
    "    (101, 1, \"Laptop\", 55000),\n",
    "    (102, 2, \"Mobile\", 25000),\n",
    "    (103, 1, \"Headphones\", 3000),\n",
    "    (104, 3, \"Book\", 700),\n",
    "    (105, 4, \"Chair\", 5000),\n",
    "    (106, 2, \"Shoes\", 2000)\n",
    "]\n",
    "orders_cols = [\"order_id\", \"customer_id\", \"product\", \"amount\"]\n",
    "\n",
    "customers_df = spark.createDataFrame(customers_data, schema=customers_cols)\n",
    "orders_df    = spark.createDataFrame(orders_data, schema=orders_cols)\n",
    "print(\"customers\")\n",
    "customers_df.show()\n",
    "print(\"orders\")\n",
    "orders_df.show()"
   ]
  },
  {
   "cell_type": "code",
   "execution_count": 0,
   "metadata": {
    "application/vnd.databricks.v1+cell": {
     "cellMetadata": {
      "byteLimit": 2048000,
      "rowLimit": 10000
     },
     "inputWidgets": {},
     "nuid": "5eddd4a4-2163-4bff-89a9-470a2cddedb2",
     "showTitle": false,
     "tableResultSettingsMap": {},
     "title": ""
    }
   },
   "outputs": [
    {
     "output_type": "stream",
     "name": "stdout",
     "output_type": "stream",
     "text": [
      "+-----------+-----+-------+---+\n|customer_id| name|   city|age|\n+-----------+-----+-------+---+\n|          2|Priya|  Delhi| 32|\n|          4|Sneha|Chennai| 35|\n+-----------+-----+-------+---+\n\n"
     ]
    }
   ],
   "source": [
    "customers_df.filter(F.col(\"age\") > 30).show()"
   ]
  },
  {
   "cell_type": "code",
   "execution_count": 0,
   "metadata": {
    "application/vnd.databricks.v1+cell": {
     "cellMetadata": {
      "byteLimit": 2048000,
      "rowLimit": 10000
     },
     "inputWidgets": {},
     "nuid": "fc09004b-549f-4b92-b112-8fa3e8d727e0",
     "showTitle": false,
     "tableResultSettingsMap": {},
     "title": ""
    }
   },
   "outputs": [
    {
     "output_type": "stream",
     "name": "stdout",
     "output_type": "stream",
     "text": [
      "+---------+\n|     city|\n+---------+\n|    Delhi|\n|  Chennai|\n|Bangalore|\n|Hyderabad|\n+---------+\n\n"
     ]
    }
   ],
   "source": [
    "customers_df.select(\"city\").distinct().show()"
   ]
  },
  {
   "cell_type": "code",
   "execution_count": 0,
   "metadata": {
    "application/vnd.databricks.v1+cell": {
     "cellMetadata": {
      "byteLimit": 2048000,
      "rowLimit": 10000
     },
     "inputWidgets": {},
     "nuid": "de5866c0-348b-4ac1-bfed-a2d11706969f",
     "showTitle": false,
     "tableResultSettingsMap": {},
     "title": ""
    }
   },
   "outputs": [
    {
     "output_type": "stream",
     "name": "stdout",
     "output_type": "stream",
     "text": [
      "+-----------+-----------+\n|customer_id|total_spent|\n+-----------+-----------+\n|          2|      27000|\n|          3|        700|\n|          1|      58000|\n|          4|       5000|\n+-----------+-----------+\n\n"
     ]
    }
   ],
   "source": [
    "orders_df.groupBy(\"customer_id\").agg(F.sum(\"amount\").alias(\"total_spent\")).show()"
   ]
  },
  {
   "cell_type": "code",
   "execution_count": 0,
   "metadata": {
    "application/vnd.databricks.v1+cell": {
     "cellMetadata": {
      "byteLimit": 2048000,
      "rowLimit": 10000
     },
     "inputWidgets": {},
     "nuid": "44ea4a0a-e5a2-4af1-be5b-fab5fa1777af",
     "showTitle": false,
     "tableResultSettingsMap": {},
     "title": ""
    }
   },
   "outputs": [
    {
     "output_type": "stream",
     "name": "stdout",
     "output_type": "stream",
     "text": [
      "+------------------+\n|  avg_order_amount|\n+------------------+\n|15116.666666666666|\n+------------------+\n\n"
     ]
    }
   ],
   "source": [
    "orders_df.agg(F.avg(\"amount\").alias(\"avg_order_amount\")).show()"
   ]
  },
  {
   "cell_type": "code",
   "execution_count": 0,
   "metadata": {
    "application/vnd.databricks.v1+cell": {
     "cellMetadata": {
      "byteLimit": 2048000,
      "rowLimit": 10000
     },
     "inputWidgets": {},
     "nuid": "8ce5ab4e-5136-41a8-ae7c-a23f5003d3fc",
     "showTitle": false,
     "tableResultSettingsMap": {},
     "title": ""
    }
   },
   "outputs": [
    {
     "output_type": "stream",
     "name": "stdout",
     "output_type": "stream",
     "text": [
      "+--------+-----------+-------+------+\n|order_id|customer_id|product|amount|\n+--------+-----------+-------+------+\n|     101|          1| Laptop| 55000|\n+--------+-----------+-------+------+\n\n"
     ]
    }
   ],
   "source": [
    "orders_df.orderBy(F.desc(\"amount\")).limit(1).show()"
   ]
  },
  {
   "cell_type": "code",
   "execution_count": 0,
   "metadata": {
    "application/vnd.databricks.v1+cell": {
     "cellMetadata": {
      "byteLimit": 2048000,
      "rowLimit": 10000
     },
     "inputWidgets": {},
     "nuid": "e5f4eecf-ea55-4e89-9d1a-c971a3008947",
     "showTitle": false,
     "tableResultSettingsMap": {},
     "title": ""
    }
   },
   "outputs": [
    {
     "output_type": "stream",
     "name": "stdout",
     "output_type": "stream",
     "text": [
      "+-----+---------+----------+------+\n| name|     city|   product|amount|\n+-----+---------+----------+------+\n|Rahul|Bangalore|    Laptop| 55000|\n|Priya|    Delhi|    Mobile| 25000|\n|Rahul|Bangalore|Headphones|  3000|\n| Aman|Hyderabad|      Book|   700|\n|Sneha|  Chennai|     Chair|  5000|\n|Priya|    Delhi|     Shoes|  2000|\n+-----+---------+----------+------+\n\n"
     ]
    }
   ],
   "source": [
    "customers_df.join(orders_df, \"customer_id\").select(\"name\",\"city\",\"product\",\"amount\").show()"
   ]
  },
  {
   "cell_type": "code",
   "execution_count": 0,
   "metadata": {
    "application/vnd.databricks.v1+cell": {
     "cellMetadata": {
      "byteLimit": 2048000,
      "rowLimit": 10000
     },
     "inputWidgets": {},
     "nuid": "5eea3fea-9dfc-40fd-9c1a-451f726e9513",
     "showTitle": false,
     "tableResultSettingsMap": {},
     "title": ""
    }
   },
   "outputs": [
    {
     "output_type": "stream",
     "name": "stdout",
     "output_type": "stream",
     "text": [
      "+---------+-----------+\n|     city|total_spent|\n+---------+-----------+\n|Bangalore|      58000|\n+---------+-----------+\nonly showing top 1 row\n"
     ]
    }
   ],
   "source": [
    "orders_df.join(customers_df, \"customer_id\") \\\n",
    "    .groupBy(\"city\").agg(F.sum(\"amount\").alias(\"total_spent\")) \\\n",
    "    .orderBy(F.desc(\"total_spent\")).show(1)\n"
   ]
  },
  {
   "cell_type": "code",
   "execution_count": 0,
   "metadata": {
    "application/vnd.databricks.v1+cell": {
     "cellMetadata": {
      "byteLimit": 2048000,
      "rowLimit": 10000
     },
     "inputWidgets": {},
     "nuid": "601ea1ac-d0af-4feb-a518-bbd6ed24b380",
     "showTitle": false,
     "tableResultSettingsMap": {},
     "title": ""
    }
   },
   "outputs": [
    {
     "output_type": "stream",
     "name": "stdout",
     "output_type": "stream",
     "text": [
      "+-----------+-----+-----------+\n|customer_id| name|total_spent|\n+-----------+-----+-----------+\n|          1|Rahul|      58000|\n|          2|Priya|      27000|\n+-----------+-----+-----------+\n\n"
     ]
    }
   ],
   "source": [
    "customers_df.createOrReplaceTempView(\"customers\")\n",
    "orders_df.createOrReplaceTempView(\"orders\")\n",
    "\n",
    "spark.sql(\"\"\"\n",
    "    SELECT c.customer_id, c.name, SUM(o.amount) AS total_spent\n",
    "    FROM customers c\n",
    "    JOIN orders o\n",
    "      ON c.customer_id = o.customer_id\n",
    "    GROUP BY c.customer_id, c.name\n",
    "    ORDER BY total_spent DESC\n",
    "    LIMIT 2\n",
    "\"\"\").show()"
   ]
  },
  {
   "cell_type": "code",
   "execution_count": 0,
   "metadata": {
    "application/vnd.databricks.v1+cell": {
     "cellMetadata": {
      "byteLimit": 2048000,
      "rowLimit": 10000
     },
     "inputWidgets": {},
     "nuid": "4518b592-f221-4f9a-9571-c97e89250031",
     "showTitle": false,
     "tableResultSettingsMap": {},
     "title": ""
    }
   },
   "outputs": [
    {
     "output_type": "stream",
     "name": "stdout",
     "output_type": "stream",
     "text": [
      "+--------+-----------+----------+------+\n|order_id|customer_id|   product|amount|\n+--------+-----------+----------+------+\n|     103|          1|Headphones|  3000|\n|     101|          1|    Laptop| 55000|\n|     102|          2|    Mobile| 25000|\n|     105|          4|     Chair|  5000|\n|     106|          2|     Shoes|  2000|\n|     104|          3|      Book|   700|\n+--------+-----------+----------+------+\n\n"
     ]
    }
   ],
   "source": [
    "output_path = \"/content/orders_csv\"\n",
    "orders_df.write.mode(\"overwrite\").option(\"header\", True).csv(output_path)\n",
    "spark.read.option(\"header\", True).option(\"inferSchema\", True).csv(output_path).show()"
   ]
  }
 ],
 "metadata": {
  "application/vnd.databricks.v1+notebook": {
   "computePreferences": null,
   "dashboards": [],
   "environmentMetadata": {
    "base_environment": "",
    "environment_version": "3"
   },
   "inputWidgetPreferences": null,
   "language": "python",
   "notebookMetadata": {
    "pythonIndentUnit": 4
   },
   "notebookName": "Customers df",
   "widgets": {}
  },
  "language_info": {
   "name": "python"
  }
 },
 "nbformat": 4,
 "nbformat_minor": 0
}