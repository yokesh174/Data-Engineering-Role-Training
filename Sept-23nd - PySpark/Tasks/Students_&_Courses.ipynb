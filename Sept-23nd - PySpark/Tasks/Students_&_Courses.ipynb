{
  "nbformat": 4,
  "nbformat_minor": 0,
  "metadata": {
    "colab": {
      "provenance": []
    },
    "kernelspec": {
      "name": "python3",
      "display_name": "Python 3"
    },
    "language_info": {
      "name": "python"
    }
  },
  "cells": [
    {
      "cell_type": "code",
      "metadata": {
        "colab": {
          "base_uri": "https://localhost:8080/"
        },
        "id": "a79b6368",
        "outputId": "58082c39-ddf2-4b8f-d976-500c2844aec3"
      },
      "source": [
        "!pip install pyspark"
      ],
      "execution_count": 2,
      "outputs": [
        {
          "output_type": "stream",
          "name": "stdout",
          "text": [
            "Requirement already satisfied: pyspark in /usr/local/lib/python3.12/dist-packages (3.5.1)\n",
            "Requirement already satisfied: py4j==0.10.9.7 in /usr/local/lib/python3.12/dist-packages (from pyspark) (0.10.9.7)\n"
          ]
        }
      ]
    },
    {
      "cell_type": "markdown",
      "source": [
        "### PySpark DataFrames: Students, Courses, Enrollments\n",
        "\n",
        "- **Students (`students_df`)**: `student_id`, `name`, `age`, `city`. Some cities may be `None`.  \n",
        "- **Courses (`courses_df`)**: `course_id`, `course_name`, `category`.  \n",
        "- **Enrollments (`enrollment_df`)**: `student_id`, `course_id`, `grade`. Some enrollments may reference non-existent students.  \n",
        "- **Purpose**: Analyze student performance, course popularity, and perform joins between DataFrames.  \n",
        "- **Display**: `.show()` prints the DataFrame contents.\n"
      ],
      "metadata": {
        "id": "65zbnhCNKfTZ"
      }
    },
    {
      "cell_type": "code",
      "source": [
        "# Student data\n",
        "students_data = [\n",
        "(1, \"Rahul Sharma\", 20, \"Bangalore\"),\n",
        "(2, \"Priya Singh\", 21, \"Delhi\"),\n",
        "(3, \"Aman Kumar\", 19, \"Hyderabad\"),\n",
        "(4, \"Sneha Reddy\", 22, \"Chennai\"),\n",
        "(5, \"Arjun Mehta\", 23, \"Mumbai\"),\n",
        "(6, \"Divya Nair\", 20, None) # Student without city\n",
        "]\n",
        "students_cols = [\"student_id\", \"name\", \"age\", \"city\"]\n",
        "students_df = spark.createDataFrame(students_data, students_cols)\n",
        "# Course data\n",
        "courses_data = [\n",
        "(101, \"Python\", \"Programming\"),\n",
        "(102, \"Data Science\", \"Analytics\"),\n",
        "(103, \"Databases\", \"Technology\"),\n",
        "(104, \"Business Studies\", \"Management\")\n",
        "]\n",
        "courses_cols = [\"course_id\", \"course_name\", \"category\"]\n",
        "courses_df = spark.createDataFrame(courses_data, courses_cols)\n",
        "# Enrollment data\n",
        "enrollment_data = [\n",
        "(1, 101, \"A\"),\n",
        "(2, 101, \"B\"),\n",
        "(3, 102, \"A\"),\n",
        "(4, 103, \"C\"),\n",
        "(5, 102, \"B\"),\n",
        "(7, 104, \"A\") # Enrollment with non-existent student\n",
        "]\n",
        "enrollment_cols = [\"student_id\", \"course_id\", \"grade\"]\n",
        "enrollment_df = spark.createDataFrame(enrollment_data, enrollment_cols)\n",
        "# Show all DataFrames\n",
        "students_df.show()\n",
        "courses_df.show()\n",
        "enrollment_df.show()"
      ],
      "metadata": {
        "colab": {
          "base_uri": "https://localhost:8080/"
        },
        "id": "_0_54vmWJb--",
        "outputId": "008bc957-29c6-4684-82d3-1146982e95f0"
      },
      "execution_count": 9,
      "outputs": [
        {
          "output_type": "stream",
          "name": "stdout",
          "text": [
            "+----------+------------+---+---------+\n",
            "|student_id|        name|age|     city|\n",
            "+----------+------------+---+---------+\n",
            "|         1|Rahul Sharma| 20|Bangalore|\n",
            "|         2| Priya Singh| 21|    Delhi|\n",
            "|         3|  Aman Kumar| 19|Hyderabad|\n",
            "|         4| Sneha Reddy| 22|  Chennai|\n",
            "|         5| Arjun Mehta| 23|   Mumbai|\n",
            "|         6|  Divya Nair| 20|     NULL|\n",
            "+----------+------------+---+---------+\n",
            "\n",
            "+---------+----------------+-----------+\n",
            "|course_id|     course_name|   category|\n",
            "+---------+----------------+-----------+\n",
            "|      101|          Python|Programming|\n",
            "|      102|    Data Science|  Analytics|\n",
            "|      103|       Databases| Technology|\n",
            "|      104|Business Studies| Management|\n",
            "+---------+----------------+-----------+\n",
            "\n",
            "+----------+---------+-----+\n",
            "|student_id|course_id|grade|\n",
            "+----------+---------+-----+\n",
            "|         1|      101|    A|\n",
            "|         2|      101|    B|\n",
            "|         3|      102|    A|\n",
            "|         4|      103|    C|\n",
            "|         5|      102|    B|\n",
            "|         7|      104|    A|\n",
            "+----------+---------+-----+\n",
            "\n"
          ]
        }
      ]
    },
    {
      "cell_type": "markdown",
      "source": [
        "### PySpark DataFrame Queries\n",
        "\n",
        "- **Select Names and Cities**  \n",
        "  Displays all student names along with their cities.\n",
        "\n",
        "- **Students Older Than 20**  \n",
        "  Filters and shows students whose age is greater than 20.\n",
        "\n",
        "- **Courses in Analytics Category**  \n",
        "  Lists all courses where the category is \"Analytics\".\n"
      ],
      "metadata": {
        "id": "iOmDU0XZKiwh"
      }
    },
    {
      "cell_type": "code",
      "source": [
        "# 1. Select all student names and their cities\n",
        "students_df.select(\"name\", \"city\").show()\n",
        "\n",
        "# 2. Find students who are older than 20\n",
        "students_df.filter(students_df.age > 20).show()\n",
        "\n",
        "# 3. List all courses under the \"Analytics\" category\n",
        "courses_df.filter(courses_df.category == \"Analytics\").show()\n"
      ],
      "metadata": {
        "colab": {
          "base_uri": "https://localhost:8080/"
        },
        "id": "dnTFHa7nJgtV",
        "outputId": "00e50202-7f0d-4199-e666-030241b23c6e"
      },
      "execution_count": 10,
      "outputs": [
        {
          "output_type": "stream",
          "name": "stdout",
          "text": [
            "+------------+---------+\n",
            "|        name|     city|\n",
            "+------------+---------+\n",
            "|Rahul Sharma|Bangalore|\n",
            "| Priya Singh|    Delhi|\n",
            "|  Aman Kumar|Hyderabad|\n",
            "| Sneha Reddy|  Chennai|\n",
            "| Arjun Mehta|   Mumbai|\n",
            "|  Divya Nair|     NULL|\n",
            "+------------+---------+\n",
            "\n",
            "+----------+-----------+---+-------+\n",
            "|student_id|       name|age|   city|\n",
            "+----------+-----------+---+-------+\n",
            "|         2|Priya Singh| 21|  Delhi|\n",
            "|         4|Sneha Reddy| 22|Chennai|\n",
            "|         5|Arjun Mehta| 23| Mumbai|\n",
            "+----------+-----------+---+-------+\n",
            "\n",
            "+---------+------------+---------+\n",
            "|course_id| course_name| category|\n",
            "+---------+------------+---------+\n",
            "|      102|Data Science|Analytics|\n",
            "+---------+------------+---------+\n",
            "\n"
          ]
        }
      ]
    },
    {
      "cell_type": "markdown",
      "source": [
        "### PySpark Aggregations\n",
        "\n",
        "- **Students per Course**  \n",
        "  Counts how many students are enrolled in each course.\n",
        "\n",
        "- **Average Age per City**  \n",
        "  Calculates the average age of students for each city.\n",
        "\n",
        "- **Maximum and Minimum Age**  \n",
        "  Finds the oldest and youngest students in the dataset.\n"
      ],
      "metadata": {
        "id": "npwUTi77LArR"
      }
    },
    {
      "cell_type": "code",
      "source": [
        "from pyspark.sql import functions as F\n",
        "\n",
        "# 1. Count how many students are enrolled in each course\n",
        "enrollment_df.groupBy(\"course_id\").count().show()\n",
        "\n",
        "# 2. Find the average age of students per city\n",
        "students_df.groupBy(\"city\").agg(F.avg(\"age\").alias(\"avg_age\")).show()\n",
        "\n",
        "# 3. Get the maximum and minimum age of students\n",
        "students_df.agg(F.max(\"age\").alias(\"max_age\"), F.min(\"age\").alias(\"min_age\")).show()\n"
      ],
      "metadata": {
        "colab": {
          "base_uri": "https://localhost:8080/"
        },
        "id": "k7xJ_uVCJmHU",
        "outputId": "6c57cc0b-6b6d-47f9-e40b-5a43b036eb6a"
      },
      "execution_count": 11,
      "outputs": [
        {
          "output_type": "stream",
          "name": "stdout",
          "text": [
            "+---------+-----+\n",
            "|course_id|count|\n",
            "+---------+-----+\n",
            "|      101|    2|\n",
            "|      102|    2|\n",
            "|      103|    1|\n",
            "|      104|    1|\n",
            "+---------+-----+\n",
            "\n",
            "+---------+-------+\n",
            "|     city|avg_age|\n",
            "+---------+-------+\n",
            "|Bangalore|   20.0|\n",
            "|    Delhi|   21.0|\n",
            "|Hyderabad|   19.0|\n",
            "|  Chennai|   22.0|\n",
            "|     NULL|   20.0|\n",
            "|   Mumbai|   23.0|\n",
            "+---------+-------+\n",
            "\n",
            "+-------+-------+\n",
            "|max_age|min_age|\n",
            "+-------+-------+\n",
            "|     23|     19|\n",
            "+-------+-------+\n",
            "\n"
          ]
        }
      ]
    },
    {
      "cell_type": "markdown",
      "source": [
        "### PySpark Joins\n",
        "\n",
        "- **Students with Their Courses**  \n",
        "  Inner join between students and enrollments to see which student took which course.\n",
        "\n",
        "- **Enrollments with Course Details**  \n",
        "  Left join between enrollments and courses to get detailed course information for each enrollment.\n",
        "\n",
        "- **Students Not Enrolled in Any Course**  \n",
        "  Left anti join to find students who are not enrolled in any course.\n",
        "\n",
        "- **Courses with No Enrollments**  \n",
        "  Left anti join to identify courses that have no students enrolled.\n"
      ],
      "metadata": {
        "id": "_4OEWNMULLUH"
      }
    },
    {
      "cell_type": "code",
      "source": [
        "# 1. Join students with enrollments to see which student took which course\n",
        "students_df.join(enrollment_df, \"student_id\", \"inner\").show()\n",
        "\n",
        "# 2. Left join enrollments with courses to get course details\n",
        "enrollment_df.join(courses_df, \"course_id\", \"left\").show()\n",
        "\n",
        "# 3. Find students who are not enrolled in any course\n",
        "students_df.join(enrollment_df, \"student_id\", \"left_anti\").show()\n",
        "\n",
        "# 4. Find courses with no students enrolled\n",
        "courses_df.join(enrollment_df, \"course_id\", \"left_anti\").show()\n"
      ],
      "metadata": {
        "colab": {
          "base_uri": "https://localhost:8080/"
        },
        "id": "-drv-OMTJtsd",
        "outputId": "9c0e4a21-07ae-43fa-f781-e2136b4daef5"
      },
      "execution_count": 12,
      "outputs": [
        {
          "output_type": "stream",
          "name": "stdout",
          "text": [
            "+----------+------------+---+---------+---------+-----+\n",
            "|student_id|        name|age|     city|course_id|grade|\n",
            "+----------+------------+---+---------+---------+-----+\n",
            "|         1|Rahul Sharma| 20|Bangalore|      101|    A|\n",
            "|         2| Priya Singh| 21|    Delhi|      101|    B|\n",
            "|         3|  Aman Kumar| 19|Hyderabad|      102|    A|\n",
            "|         4| Sneha Reddy| 22|  Chennai|      103|    C|\n",
            "|         5| Arjun Mehta| 23|   Mumbai|      102|    B|\n",
            "+----------+------------+---+---------+---------+-----+\n",
            "\n",
            "+---------+----------+-----+----------------+-----------+\n",
            "|course_id|student_id|grade|     course_name|   category|\n",
            "+---------+----------+-----+----------------+-----------+\n",
            "|      101|         1|    A|          Python|Programming|\n",
            "|      101|         2|    B|          Python|Programming|\n",
            "|      102|         3|    A|    Data Science|  Analytics|\n",
            "|      103|         4|    C|       Databases| Technology|\n",
            "|      104|         7|    A|Business Studies| Management|\n",
            "|      102|         5|    B|    Data Science|  Analytics|\n",
            "+---------+----------+-----+----------------+-----------+\n",
            "\n",
            "+----------+----------+---+----+\n",
            "|student_id|      name|age|city|\n",
            "+----------+----------+---+----+\n",
            "|         6|Divya Nair| 20|NULL|\n",
            "+----------+----------+---+----+\n",
            "\n",
            "+---------+-----------+--------+\n",
            "|course_id|course_name|category|\n",
            "+---------+-----------+--------+\n",
            "+---------+-----------+--------+\n",
            "\n"
          ]
        }
      ]
    },
    {
      "cell_type": "markdown",
      "source": [
        "### PySpark SQL Queries on Students, Courses, and Enrollments\n",
        "\n",
        "- **Students with Their Courses and Grades**  \n",
        "  Retrieves all students along with the courses they are enrolled in and their grades.\n",
        "\n",
        "- **Number of Students with Grade \"A\" per Course**  \n",
        "  Counts how many students received grade \"A\" in each course.\n",
        "\n",
        "- **Top City by Student Enrollment**  \n",
        "  Identifies the city with the highest number of students enrolled in courses.\n"
      ],
      "metadata": {
        "id": "UztBSZNKLVm_"
      }
    },
    {
      "cell_type": "code",
      "source": [
        "students_df.createOrReplaceTempView(\"students\")\n",
        "courses_df.createOrReplaceTempView(\"courses\")\n",
        "enrollment_df.createOrReplaceTempView(\"enrollments\")\n",
        "\n",
        "# 1. Get all students with their course names and grades\n",
        "spark.sql(\"\"\"\n",
        "SELECT s.name, c.course_name, e.grade\n",
        "FROM students s\n",
        "JOIN enrollments e ON s.student_id = e.student_id\n",
        "JOIN courses c ON e.course_id = c.course_id\n",
        "\"\"\").show()\n",
        "\n",
        "# 2. Find the number of students who got grade \"A\" in each course\n",
        "spark.sql(\"\"\"\n",
        "SELECT c.course_name, COUNT(*) AS num_students_A\n",
        "FROM enrollments e\n",
        "JOIN courses c ON e.course_id = c.course_id\n",
        "WHERE e.grade = 'A'\n",
        "GROUP BY c.course_name\n",
        "\"\"\").show()\n",
        "\n",
        "# 3. Find the top city with the most students enrolled in courses\n",
        "spark.sql(\"\"\"\n",
        "SELECT s.city, COUNT(*) AS total_enrolled\n",
        "FROM students s\n",
        "JOIN enrollments e ON s.student_id = e.student_id\n",
        "GROUP BY s.city\n",
        "ORDER BY total_enrolled DESC\n",
        "LIMIT 1\n",
        "\"\"\").show()\n"
      ],
      "metadata": {
        "colab": {
          "base_uri": "https://localhost:8080/"
        },
        "id": "7zc_J9mOJ1Kk",
        "outputId": "6f684e1b-59c8-41d0-b2a0-dac82e0803a6"
      },
      "execution_count": 14,
      "outputs": [
        {
          "output_type": "stream",
          "name": "stdout",
          "text": [
            "+------------+------------+-----+\n",
            "|        name| course_name|grade|\n",
            "+------------+------------+-----+\n",
            "| Priya Singh|      Python|    B|\n",
            "|Rahul Sharma|      Python|    A|\n",
            "| Arjun Mehta|Data Science|    B|\n",
            "|  Aman Kumar|Data Science|    A|\n",
            "| Sneha Reddy|   Databases|    C|\n",
            "+------------+------------+-----+\n",
            "\n",
            "+----------------+--------------+\n",
            "|     course_name|num_students_A|\n",
            "+----------------+--------------+\n",
            "|Business Studies|             1|\n",
            "|          Python|             1|\n",
            "|    Data Science|             1|\n",
            "+----------------+--------------+\n",
            "\n",
            "+---------+--------------+\n",
            "|     city|total_enrolled|\n",
            "+---------+--------------+\n",
            "|Bangalore|             1|\n",
            "+---------+--------------+\n",
            "\n"
          ]
        }
      ]
    }
  ]
}