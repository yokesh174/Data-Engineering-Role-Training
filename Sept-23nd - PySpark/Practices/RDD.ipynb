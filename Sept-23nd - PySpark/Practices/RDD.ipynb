{
  "nbformat": 4,
  "nbformat_minor": 0,
  "metadata": {
    "colab": {
      "provenance": []
    },
    "kernelspec": {
      "name": "python3",
      "display_name": "Python 3"
    },
    "language_info": {
      "name": "python"
    }
  },
  "cells": [
    {
      "cell_type": "code",
      "source": [
        "!pip install pyspark\n",
        "\n",
        "from pyspark.sql import SparkSession\n",
        "spark = SparkSession.builder.appName(\"RDD-Example\").getOrCreate()\n",
        "\n",
        "# Get SparkContext\n",
        "sc = spark.sparkContext"
      ],
      "metadata": {
        "colab": {
          "base_uri": "https://localhost:8080/"
        },
        "id": "rs0voAmmBVwG",
        "outputId": "ce75c80b-0f01-419a-9b90-5610f3ffaeb2"
      },
      "execution_count": 1,
      "outputs": [
        {
          "output_type": "stream",
          "name": "stdout",
          "text": [
            "Requirement already satisfied: pyspark in /usr/local/lib/python3.12/dist-packages (3.5.1)\n",
            "Requirement already satisfied: py4j==0.10.9.7 in /usr/local/lib/python3.12/dist-packages (from pyspark) (0.10.9.7)\n"
          ]
        }
      ]
    },
    {
      "cell_type": "markdown",
      "source": [
        "# 📝 What is RDD?\n",
        "\n",
        "**RDD** stands for **Resilient Distributed Dataset**.\n",
        "\n",
        "It is the **core data structure of Apache Spark** — an **immutable distributed collection of objects** that can be processed in parallel across a cluster.\n",
        "\n",
        "👉 In simple words:\n",
        "\n",
        "* Think of RDD like a **giant list**, but instead of sitting in one machine, it’s **spread across multiple machines**.\n",
        "* Spark can apply functions to this distributed data in parallel, making it fast and fault-tolerant.\n",
        "\n",
        "---\n",
        "\n",
        "# 📝 Key Properties of RDD\n",
        "\n",
        "* **Resilient** → Fault-tolerant (can recover lost data automatically using lineage).\n",
        "* **Distributed** → Data is split into partitions across cluster nodes.\n",
        "* **Dataset** → Collection of elements (numbers, strings, objects, rows, etc.).\n",
        "* **Immutable** → Once created, cannot be changed — only transformed into new RDDs."
      ],
      "metadata": {
        "id": "UEGCyRAkBKFk"
      }
    },
    {
      "cell_type": "code",
      "execution_count": 3,
      "metadata": {
        "colab": {
          "base_uri": "https://localhost:8080/"
        },
        "id": "qJqXe9Bf_2uE",
        "outputId": "9a7d3975-b9a8-4fd4-f7fc-b9767c0504cd"
      },
      "outputs": [
        {
          "output_type": "stream",
          "name": "stdout",
          "text": [
            "RDD elements: [1, 2, 3, 4, 5, 6, 7, 8, 9]\n"
          ]
        }
      ],
      "source": [
        "#From a Python list\n",
        "data = [1, 2, 3, 4, 5, 6, 7, 8, 9]\n",
        "rdd = sc.parallelize(data)\n",
        "print(\"RDD elements:\", rdd.collect())"
      ]
    },
    {
      "cell_type": "markdown",
      "source": [
        "### PySpark RDD Transformations\n",
        "\n",
        "- **Map (Square Each Number)**  \n",
        "  Applies a function to every element in the RDD and returns a new RDD with squared values.\n",
        "\n",
        "- **Filter (Keep Even Numbers)**  \n",
        "  Filters the RDD to keep only the elements that are even numbers.\n"
      ],
      "metadata": {
        "id": "boY_3ZrnHMzI"
      }
    },
    {
      "cell_type": "code",
      "source": [
        "#Map: Square each number\n",
        "squared_rdd = rdd.map(lambda x: x * x)\n",
        "\n",
        "#Filter: Keep only even numbers\n",
        "even_rdd = rdd.filter(lambda x: x % 2 == 0)"
      ],
      "metadata": {
        "id": "5O2DcsnGGu1G"
      },
      "execution_count": 4,
      "outputs": []
    },
    {
      "cell_type": "markdown",
      "source": [
        "### PySpark RDD Actions\n",
        "\n",
        "- **Collect**  \n",
        "  Returns all elements of the RDD as a list (used here to show squared numbers and even numbers).\n",
        "\n",
        "- **Count**  \n",
        "  Returns the total number of elements in the RDD.\n",
        "\n",
        "- **Sum**  \n",
        "  Calculates the sum of all elements in the RDD.\n",
        "\n",
        "- **Max**  \n",
        "  Finds the maximum value in the RDD.\n"
      ],
      "metadata": {
        "id": "AppcngGCHP50"
      }
    },
    {
      "cell_type": "code",
      "source": [
        "print(\"Squared:\", squared_rdd.collect())\n",
        "print(\"Even:\", even_rdd.collect())\n",
        "print(\"Count:\", rdd.count())\n",
        "print(\"Sum:\", rdd.sum())\n",
        "print(\"Max:\", rdd.max())"
      ],
      "metadata": {
        "colab": {
          "base_uri": "https://localhost:8080/"
        },
        "id": "XPQGRyZwG-kG",
        "outputId": "371e2ffd-52b0-42c6-9fc8-1e08da4a914d"
      },
      "execution_count": 5,
      "outputs": [
        {
          "output_type": "stream",
          "name": "stdout",
          "text": [
            "Squared: [1, 4, 9, 16, 25, 36, 49, 64, 81]\n",
            "Even: [2, 4, 6, 8]\n",
            "Count: 9\n",
            "Sum: 45\n",
            "Max: 9\n"
          ]
        }
      ]
    },
    {
      "cell_type": "code",
      "source": [
        "#Sample text\n",
        "text = [\"hello world\", \"hello spark\", \"big data with spark\"]\n",
        "\n",
        "# Create RDD\n",
        "text_rdd = sc.parallelize(text)\n",
        "\n",
        "# Split words\n",
        "words = text_rdd.flatMap(lambda line: line.split(\" \"))\n",
        "\n",
        "#Map each word to (word, 1)\n",
        "word_pairs = words.map(lambda word: (word, 1))\n",
        "\n",
        "#Reduce by key (sum counts)\n",
        "\n",
        "# hello,1 --- hello, 1\n",
        "word_count = word_pairs.reduceByKey (lambda a, b: a+b)\n",
        "print(\"Word Count:\", word_count.collect())"
      ],
      "metadata": {
        "colab": {
          "base_uri": "https://localhost:8080/"
        },
        "id": "XPGeMaNfO9lP",
        "outputId": "127c442c-80c4-4803-98b8-02076ee137c4"
      },
      "execution_count": 7,
      "outputs": [
        {
          "output_type": "stream",
          "name": "stdout",
          "text": [
            "Word Count: [('hello', 2), ('world', 1), ('big', 1), ('with', 1), ('spark', 2), ('data', 1)]\n"
          ]
        }
      ]
    }
  ]
}