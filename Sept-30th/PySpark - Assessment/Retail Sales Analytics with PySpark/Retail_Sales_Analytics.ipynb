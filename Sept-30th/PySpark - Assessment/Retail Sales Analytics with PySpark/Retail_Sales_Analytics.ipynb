{
  "nbformat": 4,
  "nbformat_minor": 0,
  "metadata": {
    "colab": {
      "provenance": []
    },
    "kernelspec": {
      "name": "python3",
      "display_name": "Python 3"
    },
    "language_info": {
      "name": "python"
    }
  },
  "cells": [
    {
      "cell_type": "markdown",
      "source": [
        "## Step 1: Setup in Google Colab\n",
        "Install PySpark and create a Spark session.\n"
      ],
      "metadata": {
        "id": "gJjcjPSxFtBU"
      }
    },
    {
      "cell_type": "code",
      "execution_count": 2,
      "metadata": {
        "colab": {
          "base_uri": "https://localhost:8080/"
        },
        "id": "gDZdrvGVFnlV",
        "outputId": "ed2ea7f4-4110-4857-ab10-326696f9311e"
      },
      "outputs": [
        {
          "output_type": "stream",
          "name": "stdout",
          "text": [
            "Requirement already satisfied: pyspark in /usr/local/lib/python3.12/dist-packages (3.5.1)\n",
            "Requirement already satisfied: py4j==0.10.9.7 in /usr/local/lib/python3.12/dist-packages (from pyspark) (0.10.9.7)\n"
          ]
        }
      ],
      "source": [
        "!pip install pyspark\n",
        "\n",
        "from pyspark.sql import SparkSession\n",
        "spark = SparkSession.builder.appName(\"Retail-Capstone\").getOrCreate()\n",
        "sc = spark.sparkContext\n"
      ]
    },
    {
      "cell_type": "markdown",
      "source": [
        "## Step 2: Prepare Data\n",
        "We create sample datasets for **Customers, Products, and Orders**.\n"
      ],
      "metadata": {
        "id": "YDqrsDdVF57T"
      }
    },
    {
      "cell_type": "code",
      "source": [
        "# Customers Data\n",
        "customers_data = [\n",
        "    (1, \"Rahul Sharma\", \"Bangalore\", 28),\n",
        "    (2, \"Priya Singh\", \"Delhi\", 32),\n",
        "    (3, \"Aman Kumar\", \"Hyderabad\", 25),\n",
        "    (4, \"Sneha Reddy\", \"Chennai\", 35),\n",
        "    (5, \"Arjun Mehta\", \"Mumbai\", 30),\n",
        "    (6, \"Divya Nair\", \"Delhi\", 29)\n",
        "]\n",
        "customers_cols = [\"customer_id\", \"name\", \"city\", \"age\"]\n",
        "customers_df = spark.createDataFrame(customers_data, customers_cols)\n",
        "\n",
        "# Products Data\n",
        "products_data = [\n",
        "    (101, \"Laptop\", \"Electronics\", 55000),\n",
        "    (102, \"Mobile\", \"Electronics\", 25000),\n",
        "    (103, \"Headphones\", \"Electronics\", 3000),\n",
        "    (104, \"Chair\", \"Furniture\", 5000),\n",
        "    (105, \"Book\", \"Stationery\", 700),\n",
        "    (106, \"Shoes\", \"Fashion\", 2500)\n",
        "]\n",
        "products_cols = [\"product_id\", \"product_name\", \"category\", \"price\"]\n",
        "products_df = spark.createDataFrame(products_data, products_cols)\n",
        "\n",
        "# Orders Data\n",
        "orders_data = [\n",
        "    (1001, 1, 101, 1, \"2024-01-10\"),\n",
        "    (1002, 2, 102, 2, \"2024-01-12\"),\n",
        "    (1003, 1, 103, 3, \"2024-02-05\"),\n",
        "    (1004, 3, 104, 1, \"2024-02-08\"),\n",
        "    (1005, 5, 105, 5, \"2024-03-01\"),\n",
        "    (1006, 6, 106, 2, \"2024-03-15\"),\n",
        "    (1007, 7, 101, 1, \"2024-03-20\")  # Non-existent customer\n",
        "]\n",
        "orders_cols = [\"order_id\", \"customer_id\", \"product_id\", \"quantity\", \"order_date\"]\n",
        "orders_df = spark.createDataFrame(orders_data, orders_cols)\n"
      ],
      "metadata": {
        "id": "ALOHsp4EF69h"
      },
      "execution_count": 3,
      "outputs": []
    },
    {
      "cell_type": "markdown",
      "source": [
        "## Part A – RDD Basics\n",
        "We practice with PySpark RDDs:  \n",
        "1. Numbers RDD – sum, max, min, avg  \n",
        "2. Word count from a list of sentences\n"
      ],
      "metadata": {
        "id": "VE572jdtF9yx"
      }
    },
    {
      "cell_type": "code",
      "source": [
        "# 1. Numbers RDD\n",
        "nums = sc.parallelize([10, 20, 30, 40, 50])\n",
        "print(\"Sum:\", nums.sum())\n",
        "print(\"Max:\", nums.max())\n",
        "print(\"Min:\", nums.min())\n",
        "print(\"Avg:\", nums.mean())\n",
        "\n",
        "# 2. Word count\n",
        "sentences = sc.parallelize([\"spark is great\", \"spark is fast\", \"pyspark is powerful\"])\n",
        "words = sentences.flatMap(lambda x: x.split(\" \"))\n",
        "word_count = words.map(lambda x: (x, 1)).reduceByKey(lambda a, b: a + b)\n",
        "print(word_count.collect())\n"
      ],
      "metadata": {
        "colab": {
          "base_uri": "https://localhost:8080/"
        },
        "id": "PS4VLJZWGBMx",
        "outputId": "c683bedd-29f8-4e98-ae09-d150f4c89744"
      },
      "execution_count": 4,
      "outputs": [
        {
          "output_type": "stream",
          "name": "stdout",
          "text": [
            "Sum: 150\n",
            "Max: 50\n",
            "Min: 10\n",
            "Avg: 30.0\n",
            "[('fast', 1), ('powerful', 1), ('spark', 2), ('is', 3), ('great', 1), ('pyspark', 1)]\n"
          ]
        }
      ]
    },
    {
      "cell_type": "markdown",
      "source": [
        "## Part B – DataFrame Operations\n",
        "Performing basic DataFrame queries:\n",
        "- Show customers & cities  \n",
        "- Customers older than 30  \n",
        "- Distinct product categories  \n",
        "- Top 3 expensive products\n"
      ],
      "metadata": {
        "id": "pNcvj0hNGDe5"
      }
    },
    {
      "cell_type": "code",
      "source": [
        "customers_df.select(\"name\", \"city\").show()\n",
        "customers_df.filter(customers_df.age > 30).show()\n",
        "products_df.select(\"category\").distinct().show()\n",
        "products_df.orderBy(products_df.price.desc()).limit(3).show()\n"
      ],
      "metadata": {
        "colab": {
          "base_uri": "https://localhost:8080/"
        },
        "id": "T4N1P0cYGGXy",
        "outputId": "014eb3ca-b3ae-49e4-b4ca-d4ba98e81f33"
      },
      "execution_count": 5,
      "outputs": [
        {
          "output_type": "stream",
          "name": "stdout",
          "text": [
            "+------------+---------+\n",
            "|        name|     city|\n",
            "+------------+---------+\n",
            "|Rahul Sharma|Bangalore|\n",
            "| Priya Singh|    Delhi|\n",
            "|  Aman Kumar|Hyderabad|\n",
            "| Sneha Reddy|  Chennai|\n",
            "| Arjun Mehta|   Mumbai|\n",
            "|  Divya Nair|    Delhi|\n",
            "+------------+---------+\n",
            "\n",
            "+-----------+-----------+-------+---+\n",
            "|customer_id|       name|   city|age|\n",
            "+-----------+-----------+-------+---+\n",
            "|          2|Priya Singh|  Delhi| 32|\n",
            "|          4|Sneha Reddy|Chennai| 35|\n",
            "+-----------+-----------+-------+---+\n",
            "\n",
            "+-----------+\n",
            "|   category|\n",
            "+-----------+\n",
            "|Electronics|\n",
            "| Stationery|\n",
            "|    Fashion|\n",
            "|  Furniture|\n",
            "+-----------+\n",
            "\n",
            "+----------+------------+-----------+-----+\n",
            "|product_id|product_name|   category|price|\n",
            "+----------+------------+-----------+-----+\n",
            "|       101|      Laptop|Electronics|55000|\n",
            "|       102|      Mobile|Electronics|25000|\n",
            "|       104|       Chair|  Furniture| 5000|\n",
            "+----------+------------+-----------+-----+\n",
            "\n"
          ]
        }
      ]
    },
    {
      "cell_type": "markdown",
      "source": [
        "## Part C – Aggregations\n",
        "Group and aggregate data:\n",
        "- Average age per city  \n",
        "- Total revenue by product  \n",
        "- Most popular product by quantity\n"
      ],
      "metadata": {
        "id": "oP4l8xenGH7J"
      }
    },
    {
      "cell_type": "code",
      "source": [
        "from pyspark.sql.functions import avg, sum\n",
        "\n",
        "customers_df.groupBy(\"city\").agg(avg(\"age\")).show()\n",
        "\n",
        "orders_products = orders_df.join(products_df, \"product_id\")\n",
        "orders_products.withColumn(\"revenue\", orders_products.quantity * orders_products.price) \\\n",
        "    .groupBy(\"product_name\").agg(sum(\"revenue\")).show()\n",
        "\n",
        "orders_df.groupBy(\"product_id\").agg(sum(\"quantity\").alias(\"total_qty\")) \\\n",
        "    .orderBy(\"total_qty\", ascending=False).show(1)\n"
      ],
      "metadata": {
        "colab": {
          "base_uri": "https://localhost:8080/"
        },
        "id": "CcQhkM7cGKJ4",
        "outputId": "4c2e1718-75c1-4a8f-a7e4-e66b38fc81e7"
      },
      "execution_count": 6,
      "outputs": [
        {
          "output_type": "stream",
          "name": "stdout",
          "text": [
            "+---------+--------+\n",
            "|     city|avg(age)|\n",
            "+---------+--------+\n",
            "|Bangalore|    28.0|\n",
            "|    Delhi|    30.5|\n",
            "|Hyderabad|    25.0|\n",
            "|  Chennai|    35.0|\n",
            "|   Mumbai|    30.0|\n",
            "+---------+--------+\n",
            "\n",
            "+------------+------------+\n",
            "|product_name|sum(revenue)|\n",
            "+------------+------------+\n",
            "|       Chair|        5000|\n",
            "|        Book|        3500|\n",
            "|      Laptop|      110000|\n",
            "|       Shoes|        5000|\n",
            "|      Mobile|       50000|\n",
            "|  Headphones|        9000|\n",
            "+------------+------------+\n",
            "\n",
            "+----------+---------+\n",
            "|product_id|total_qty|\n",
            "+----------+---------+\n",
            "|       105|        5|\n",
            "+----------+---------+\n",
            "only showing top 1 row\n",
            "\n"
          ]
        }
      ]
    },
    {
      "cell_type": "markdown",
      "source": [
        "## Part D – Joins\n",
        "We join multiple DataFrames to get insights:\n",
        "1. Customers with Orders  \n",
        "2. Orders with Products  \n",
        "3. Customers without Orders  \n",
        "4. Products never ordered\n"
      ],
      "metadata": {
        "id": "5fxAknrcGMHh"
      }
    },
    {
      "cell_type": "code",
      "source": [
        "customers_orders = customers_df.join(orders_df, \"customer_id\")\n",
        "customers_orders.show()\n",
        "\n",
        "orders_products = orders_df.join(products_df, \"product_id\")\n",
        "orders_products.show()\n",
        "\n",
        "customers_df.join(orders_df, \"customer_id\", \"left_anti\").show()\n",
        "products_df.join(orders_df, \"product_id\", \"left_anti\").show()\n"
      ],
      "metadata": {
        "colab": {
          "base_uri": "https://localhost:8080/"
        },
        "id": "JedFVKLNGN2I",
        "outputId": "e297da12-b5ae-4990-892b-853ecef23686"
      },
      "execution_count": 7,
      "outputs": [
        {
          "output_type": "stream",
          "name": "stdout",
          "text": [
            "+-----------+------------+---------+---+--------+----------+--------+----------+\n",
            "|customer_id|        name|     city|age|order_id|product_id|quantity|order_date|\n",
            "+-----------+------------+---------+---+--------+----------+--------+----------+\n",
            "|          1|Rahul Sharma|Bangalore| 28|    1001|       101|       1|2024-01-10|\n",
            "|          1|Rahul Sharma|Bangalore| 28|    1003|       103|       3|2024-02-05|\n",
            "|          2| Priya Singh|    Delhi| 32|    1002|       102|       2|2024-01-12|\n",
            "|          3|  Aman Kumar|Hyderabad| 25|    1004|       104|       1|2024-02-08|\n",
            "|          5| Arjun Mehta|   Mumbai| 30|    1005|       105|       5|2024-03-01|\n",
            "|          6|  Divya Nair|    Delhi| 29|    1006|       106|       2|2024-03-15|\n",
            "+-----------+------------+---------+---+--------+----------+--------+----------+\n",
            "\n",
            "+----------+--------+-----------+--------+----------+------------+-----------+-----+\n",
            "|product_id|order_id|customer_id|quantity|order_date|product_name|   category|price|\n",
            "+----------+--------+-----------+--------+----------+------------+-----------+-----+\n",
            "|       101|    1001|          1|       1|2024-01-10|      Laptop|Electronics|55000|\n",
            "|       101|    1007|          7|       1|2024-03-20|      Laptop|Electronics|55000|\n",
            "|       102|    1002|          2|       2|2024-01-12|      Mobile|Electronics|25000|\n",
            "|       103|    1003|          1|       3|2024-02-05|  Headphones|Electronics| 3000|\n",
            "|       104|    1004|          3|       1|2024-02-08|       Chair|  Furniture| 5000|\n",
            "|       105|    1005|          5|       5|2024-03-01|        Book| Stationery|  700|\n",
            "|       106|    1006|          6|       2|2024-03-15|       Shoes|    Fashion| 2500|\n",
            "+----------+--------+-----------+--------+----------+------------+-----------+-----+\n",
            "\n",
            "+-----------+-----------+-------+---+\n",
            "|customer_id|       name|   city|age|\n",
            "+-----------+-----------+-------+---+\n",
            "|          4|Sneha Reddy|Chennai| 35|\n",
            "+-----------+-----------+-------+---+\n",
            "\n",
            "+----------+------------+--------+-----+\n",
            "|product_id|product_name|category|price|\n",
            "+----------+------------+--------+-----+\n",
            "+----------+------------+--------+-----+\n",
            "\n"
          ]
        }
      ]
    },
    {
      "cell_type": "markdown",
      "source": [
        "## Part E – SQL Queries\n",
        "We register DataFrames as SQL views and run queries:\n",
        "- Top 2 cities by revenue  \n",
        "- Customers spending > 50,000  \n",
        "- Best-selling category by revenue\n"
      ],
      "metadata": {
        "id": "tdpsfG-WGQIo"
      }
    },
    {
      "cell_type": "code",
      "source": [
        "customers_df.createOrReplaceTempView(\"customers\")\n",
        "products_df.createOrReplaceTempView(\"products\")\n",
        "orders_df.createOrReplaceTempView(\"orders\")\n",
        "\n",
        "spark.sql(\"\"\"\n",
        "SELECT c.city, SUM(o.quantity * p.price) as total_revenue\n",
        "FROM customers c\n",
        "JOIN orders o ON c.customer_id = o.customer_id\n",
        "JOIN products p ON o.product_id = p.product_id\n",
        "GROUP BY c.city\n",
        "ORDER BY total_revenue DESC\n",
        "LIMIT 2\n",
        "\"\"\").show()\n",
        "\n",
        "spark.sql(\"\"\"\n",
        "SELECT c.name, SUM(o.quantity * p.price) as total_spent\n",
        "FROM customers c\n",
        "JOIN orders o ON c.customer_id = o.customer_id\n",
        "JOIN products p ON o.product_id = p.product_id\n",
        "GROUP BY c.name\n",
        "HAVING total_spent > 50000\n",
        "\"\"\").show()\n",
        "\n",
        "spark.sql(\"\"\"\n",
        "SELECT p.category, SUM(o.quantity * p.price) as total_revenue\n",
        "FROM products p\n",
        "JOIN orders o ON p.product_id = o.product_id\n",
        "GROUP BY p.category\n",
        "ORDER BY total_revenue DESC\n",
        "LIMIT 1\n",
        "\"\"\").show()\n"
      ],
      "metadata": {
        "colab": {
          "base_uri": "https://localhost:8080/"
        },
        "id": "LxhvFIvfGSYA",
        "outputId": "b7caaca4-8dcd-4e3f-8c73-c2a6b7cad56d"
      },
      "execution_count": 8,
      "outputs": [
        {
          "output_type": "stream",
          "name": "stdout",
          "text": [
            "+---------+-------------+\n",
            "|     city|total_revenue|\n",
            "+---------+-------------+\n",
            "|Bangalore|        64000|\n",
            "|    Delhi|        55000|\n",
            "+---------+-------------+\n",
            "\n",
            "+------------+-----------+\n",
            "|        name|total_spent|\n",
            "+------------+-----------+\n",
            "|Rahul Sharma|      64000|\n",
            "+------------+-----------+\n",
            "\n",
            "+-----------+-------------+\n",
            "|   category|total_revenue|\n",
            "+-----------+-------------+\n",
            "|Electronics|       169000|\n",
            "+-----------+-------------+\n",
            "\n"
          ]
        }
      ]
    },
    {
      "cell_type": "markdown",
      "source": [
        "## Part F – File I/O\n",
        "We save and reload data:  \n",
        "- Orders as CSV  \n",
        "- Products as JSON\n"
      ],
      "metadata": {
        "id": "QWVtiEqmGUbp"
      }
    },
    {
      "cell_type": "code",
      "source": [
        "orders_df.write.csv(\"/content/orders_csv\", header=True, mode=\"overwrite\")\n",
        "orders_csv = spark.read.csv(\"/content/orders_csv\", header=True, inferSchema=True)\n",
        "\n",
        "products_df.write.json(\"/content/products_json\", mode=\"overwrite\")\n",
        "products_json = spark.read.json(\"/content/products_json\")\n"
      ],
      "metadata": {
        "id": "Xv9twg79GWLR"
      },
      "execution_count": 9,
      "outputs": []
    },
    {
      "cell_type": "markdown",
      "source": [
        "## Part G – Visualization\n",
        "Convert PySpark DataFrames to Pandas and plot:  \n",
        "1. Revenue by Category (Bar chart)  \n",
        "2. Orders per Month (Line chart)  \n",
        "3. Revenue vs Quantity (Scatter plot)\n"
      ],
      "metadata": {
        "id": "Gmx7cZX1GXyq"
      }
    },
    {
      "cell_type": "code",
      "source": [
        "import matplotlib.pyplot as plt\n",
        "import pandas as pd\n",
        "\n",
        "# Revenue by category\n",
        "orders_products = orders_df.join(products_df, \"product_id\")\n",
        "orders_products_pd = orders_products.withColumn(\"revenue\", orders_products.quantity * orders_products.price).toPandas()\n",
        "revenue_category = orders_products_pd.groupby(\"category\")[\"revenue\"].sum()\n",
        "revenue_category.plot(kind=\"bar\", title=\"Revenue by Category\")\n",
        "plt.show()\n",
        "\n"
      ],
      "metadata": {
        "colab": {
          "base_uri": "https://localhost:8080/",
          "height": 533
        },
        "id": "m-UsblOeGZRL",
        "outputId": "2355d6fa-1ee3-40fd-fc71-f9a57a57d851"
      },
      "execution_count": 13,
      "outputs": [
        {
          "output_type": "display_data",
          "data": {
            "text/plain": [
              "<Figure size 640x480 with 1 Axes>"
            ],
            "image/png": "[encoded data removed]"
          },
          "metadata": {}
        }
      ]
    },
    {
      "cell_type": "code",
      "source": [
        "# Orders per month\n",
        "orders_products_pd[\"order_date\"] = pd.to_datetime(orders_products_pd[\"order_date\"])\n",
        "orders_per_month = orders_products_pd.groupby(orders_products_pd[\"order_date\"].dt.to_period(\"M\"))[\"order_id\"].count()\n",
        "orders_per_month.plot(kind=\"line\", marker=\"o\", title=\"Orders per Month\")\n",
        "plt.show()\n",
        "\n",
        "\n"
      ],
      "metadata": {
        "colab": {
          "base_uri": "https://localhost:8080/",
          "height": 488
        },
        "id": "0QbL-bkNGu1L",
        "outputId": "722af176-599b-468c-ee78-6a6867f6bb98"
      },
      "execution_count": 12,
      "outputs": [
        {
          "output_type": "display_data",
          "data": {
            "text/plain": [
              "<Figure size 640x480 with 1 Axes>"
            ],
            "image/png": "[encoded data removed]"
          },
          "metadata": {}
        }
      ]
    },
    {
      "cell_type": "code",
      "source": [
        "# Revenue vs Quantity\n",
        "plt.scatter(orders_products_pd[\"quantity\"], orders_products_pd[\"revenue\"])\n",
        "plt.title(\"Revenue vs Quantity\")\n",
        "plt.xlabel(\"Quantity\")\n",
        "plt.ylabel(\"Revenue\")\n",
        "plt.show()"
      ],
      "metadata": {
        "colab": {
          "base_uri": "https://localhost:8080/",
          "height": 472
        },
        "id": "NoW2nbzFGwm5",
        "outputId": "deff0ed6-6d29-4e36-e37a-97c0d1c6a949"
      },
      "execution_count": 11,
      "outputs": [
        {
          "output_type": "display_data",
          "data": {
            "text/plain": [
              "<Figure size 640x480 with 1 Axes>"
            ],
            "image/png": "[encoded data removed]"
          },
          "metadata": {}
        }
      ]
    }
  ]
}