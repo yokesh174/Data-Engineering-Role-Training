{
  "nbformat": 4,
  "nbformat_minor": 0,
  "metadata": {
    "colab": {
      "provenance": []
    },
    "kernelspec": {
      "name": "python3",
      "display_name": "Python 3"
    },
    "language_info": {
      "name": "python"
    }
  },
  "cells": [
    {
      "cell_type": "markdown",
      "source": [
        "## Step 1: Setup\n",
        "We first install PySpark and create a SparkSession for our project.\n"
      ],
      "metadata": {
        "id": "pQWAXM605z0w"
      }
    },
    {
      "cell_type": "code",
      "execution_count": 1,
      "metadata": {
        "colab": {
          "base_uri": "https://localhost:8080/"
        },
        "id": "GdJu8VWH4W7Q",
        "outputId": "35b0a5d8-35ae-4223-eabf-132bc6f012c5"
      },
      "outputs": [
        {
          "output_type": "stream",
          "name": "stdout",
          "text": [
            "Requirement already satisfied: pyspark in /usr/local/lib/python3.12/dist-packages (3.5.1)\n",
            "Requirement already satisfied: py4j==0.10.9.7 in /usr/local/lib/python3.12/dist-packages (from pyspark) (0.10.9.7)\n"
          ]
        }
      ],
      "source": [
        "!pip install pyspark\n",
        "\n",
        "from pyspark.sql import SparkSession\n",
        "spark = SparkSession.builder.appName(\"Movie-Capstone\").getOrCreate()\n",
        "sc = spark.sparkContext\n"
      ]
    },
    {
      "cell_type": "markdown",
      "source": [
        "## Step 2: Prepare Data\n",
        "We create three DataFrames: **Users, Movies, Ratings**.  \n",
        "These will act as our sample dataset for analysis.\n"
      ],
      "metadata": {
        "id": "P-UNdTNH4ryW"
      }
    },
    {
      "cell_type": "code",
      "source": [
        "# Users Data\n",
        "users_data = [\n",
        "    (1, \"Rahul\", 25, \"Bangalore\"),\n",
        "    (2, \"Priya\", 30, \"Delhi\"),\n",
        "    (3, \"Aman\", 22, \"Hyderabad\"),\n",
        "    (4, \"Sneha\", 28, \"Chennai\"),\n",
        "    (5, \"Arjun\", 35, \"Mumbai\")\n",
        "]\n",
        "users_cols = [\"user_id\", \"name\", \"age\", \"city\"]\n",
        "users_df = spark.createDataFrame(users_data, users_cols)\n",
        "\n",
        "# Movies Data\n",
        "movies_data = [\n",
        "    (101, \"Inception\", \"Sci-Fi\", 2010),\n",
        "    (102, \"Avengers\", \"Action\", 2012),\n",
        "    (103, \"3 Idiots\", \"Comedy\", 2009),\n",
        "    (104, \"Dangal\", \"Drama\", 2016),\n",
        "    (105, \"Interstellar\", \"Sci-Fi\", 2014)\n",
        "]\n",
        "movies_cols = [\"movie_id\", \"title\", \"genre\", \"year\"]\n",
        "movies_df = spark.createDataFrame(movies_data, movies_cols)\n",
        "\n",
        "# Ratings Data\n",
        "ratings_data = [\n",
        "    (1, 101, 5),\n",
        "    (2, 101, 4),\n",
        "    (1, 102, 3),\n",
        "    (3, 103, 4),\n",
        "    (4, 104, 5),\n",
        "    (2, 103, 5),\n",
        "    (5, 105, 4),\n",
        "    (6, 101, 5)  # Rating from non-existent user\n",
        "]\n",
        "ratings_cols = [\"user_id\", \"movie_id\", \"rating\"]\n",
        "ratings_df = spark.createDataFrame(ratings_data, ratings_cols)\n"
      ],
      "metadata": {
        "id": "jlTY4Jsy4lz_"
      },
      "execution_count": 2,
      "outputs": []
    },
    {
      "cell_type": "markdown",
      "source": [
        "## Part A – DataFrame Basics\n",
        "Basic operations on DataFrames:\n",
        "1. Users older than 28  \n",
        "2. Distinct movie genres  \n",
        "3. Movies released after 2010\n"
      ],
      "metadata": {
        "id": "Z7eIUOxn41pv"
      }
    },
    {
      "cell_type": "code",
      "source": [
        "users_df.filter(users_df.age > 28).show()\n",
        "movies_df.select(\"genre\").distinct().show()\n",
        "movies_df.filter(movies_df.year > 2010).show()\n"
      ],
      "metadata": {
        "colab": {
          "base_uri": "https://localhost:8080/"
        },
        "id": "6XBO8btw43U2",
        "outputId": "7b4c28bb-a029-4ec8-cd83-d371269dddff"
      },
      "execution_count": 3,
      "outputs": [
        {
          "output_type": "stream",
          "name": "stdout",
          "text": [
            "+-------+-----+---+------+\n",
            "|user_id| name|age|  city|\n",
            "+-------+-----+---+------+\n",
            "|      2|Priya| 30| Delhi|\n",
            "|      5|Arjun| 35|Mumbai|\n",
            "+-------+-----+---+------+\n",
            "\n",
            "+------+\n",
            "| genre|\n",
            "+------+\n",
            "|Action|\n",
            "|Sci-Fi|\n",
            "| Drama|\n",
            "|Comedy|\n",
            "+------+\n",
            "\n",
            "+--------+------------+------+----+\n",
            "|movie_id|       title| genre|year|\n",
            "+--------+------------+------+----+\n",
            "|     102|    Avengers|Action|2012|\n",
            "|     104|      Dangal| Drama|2016|\n",
            "|     105|Interstellar|Sci-Fi|2014|\n",
            "+--------+------------+------+----+\n",
            "\n"
          ]
        }
      ]
    },
    {
      "cell_type": "markdown",
      "source": [
        "## Part B – Aggregations\n",
        "We use groupBy and aggregation functions:\n",
        "- Average age of users per city  \n",
        "- Average rating per movie  \n",
        "- Highest-rated movie in each genre\n"
      ],
      "metadata": {
        "id": "zHXuNo2P4--Y"
      }
    },
    {
      "cell_type": "code",
      "source": [
        "from pyspark.sql.functions import avg\n",
        "\n",
        "users_df.groupBy(\"city\").agg(avg(\"age\")).show()\n",
        "ratings_df.groupBy(\"movie_id\").agg(avg(\"rating\")).show()\n",
        "\n",
        "ratings_movies = ratings_df.join(movies_df, \"movie_id\")\n",
        "ratings_movies.groupBy(\"genre\", \"title\").agg(avg(\"rating\").alias(\"avg_rating\")) \\\n",
        "    .orderBy(\"genre\", \"avg_rating\", ascending=[True, False]).show()\n"
      ],
      "metadata": {
        "colab": {
          "base_uri": "https://localhost:8080/"
        },
        "id": "ZVs1fy2T5BI2",
        "outputId": "d47cf950-cd59-4faa-dff2-acbb4da99e00"
      },
      "execution_count": 4,
      "outputs": [
        {
          "output_type": "stream",
          "name": "stdout",
          "text": [
            "+---------+--------+\n",
            "|     city|avg(age)|\n",
            "+---------+--------+\n",
            "|Bangalore|    25.0|\n",
            "|    Delhi|    30.0|\n",
            "|  Chennai|    28.0|\n",
            "|   Mumbai|    35.0|\n",
            "|Hyderabad|    22.0|\n",
            "+---------+--------+\n",
            "\n",
            "+--------+-----------------+\n",
            "|movie_id|      avg(rating)|\n",
            "+--------+-----------------+\n",
            "|     103|              4.5|\n",
            "|     101|4.666666666666667|\n",
            "|     102|              3.0|\n",
            "|     104|              5.0|\n",
            "|     105|              4.0|\n",
            "+--------+-----------------+\n",
            "\n",
            "+------+------------+-----------------+\n",
            "| genre|       title|       avg_rating|\n",
            "+------+------------+-----------------+\n",
            "|Action|    Avengers|              3.0|\n",
            "|Comedy|    3 Idiots|              4.5|\n",
            "| Drama|      Dangal|              5.0|\n",
            "|Sci-Fi|   Inception|4.666666666666667|\n",
            "|Sci-Fi|Interstellar|              4.0|\n",
            "+------+------------+-----------------+\n",
            "\n"
          ]
        }
      ]
    },
    {
      "cell_type": "markdown",
      "source": [
        "## Part C – Joins\n",
        "We perform joins to combine data:  \n",
        "1. Ratings with Users  \n",
        "2. Ratings with Movies  \n",
        "3. Users with no ratings  \n",
        "4. Movies with no ratings\n"
      ],
      "metadata": {
        "id": "tQhJH-E95HG3"
      }
    },
    {
      "cell_type": "code",
      "source": [
        "ratings_users = ratings_df.join(users_df, \"user_id\")\n",
        "ratings_users.show()\n",
        "\n",
        "ratings_movies = ratings_df.join(movies_df, \"movie_id\")\n",
        "ratings_movies.show()\n",
        "\n",
        "users_df.join(ratings_df, \"user_id\", \"left_anti\").show()\n",
        "movies_df.join(ratings_df, \"movie_id\", \"left_anti\").show()\n"
      ],
      "metadata": {
        "colab": {
          "base_uri": "https://localhost:8080/"
        },
        "id": "DMrza48z5GkF",
        "outputId": "144b2352-644e-402e-f3cd-e641751b2e69"
      },
      "execution_count": 5,
      "outputs": [
        {
          "output_type": "stream",
          "name": "stdout",
          "text": [
            "+-------+--------+------+-----+---+---------+\n",
            "|user_id|movie_id|rating| name|age|     city|\n",
            "+-------+--------+------+-----+---+---------+\n",
            "|      1|     101|     5|Rahul| 25|Bangalore|\n",
            "|      1|     102|     3|Rahul| 25|Bangalore|\n",
            "|      2|     101|     4|Priya| 30|    Delhi|\n",
            "|      2|     103|     5|Priya| 30|    Delhi|\n",
            "|      3|     103|     4| Aman| 22|Hyderabad|\n",
            "|      4|     104|     5|Sneha| 28|  Chennai|\n",
            "|      5|     105|     4|Arjun| 35|   Mumbai|\n",
            "+-------+--------+------+-----+---+---------+\n",
            "\n",
            "+--------+-------+------+------------+------+----+\n",
            "|movie_id|user_id|rating|       title| genre|year|\n",
            "+--------+-------+------+------------+------+----+\n",
            "|     101|      1|     5|   Inception|Sci-Fi|2010|\n",
            "|     101|      2|     4|   Inception|Sci-Fi|2010|\n",
            "|     101|      6|     5|   Inception|Sci-Fi|2010|\n",
            "|     102|      1|     3|    Avengers|Action|2012|\n",
            "|     103|      3|     4|    3 Idiots|Comedy|2009|\n",
            "|     103|      2|     5|    3 Idiots|Comedy|2009|\n",
            "|     104|      4|     5|      Dangal| Drama|2016|\n",
            "|     105|      5|     4|Interstellar|Sci-Fi|2014|\n",
            "+--------+-------+------+------------+------+----+\n",
            "\n",
            "+-------+----+---+----+\n",
            "|user_id|name|age|city|\n",
            "+-------+----+---+----+\n",
            "+-------+----+---+----+\n",
            "\n",
            "+--------+-----+-----+----+\n",
            "|movie_id|title|genre|year|\n",
            "+--------+-----+-----+----+\n",
            "+--------+-----+-----+----+\n",
            "\n"
          ]
        }
      ]
    },
    {
      "cell_type": "markdown",
      "source": [
        "## Part D – SQL Queries\n",
        "We register DataFrames as SQL views and run queries:  \n",
        "- Top 2 cities by ratings count  \n",
        "- Users with 5-star ratings  \n",
        "- Most popular genre by number of ratings\n"
      ],
      "metadata": {
        "id": "0pXuz-Y85N__"
      }
    },
    {
      "cell_type": "code",
      "source": [
        "users_df.createOrReplaceTempView(\"users\")\n",
        "movies_df.createOrReplaceTempView(\"movies\")\n",
        "ratings_df.createOrReplaceTempView(\"ratings\")\n",
        "\n",
        "spark.sql(\"\"\"\n",
        "SELECT u.city, COUNT(r.rating) as total_ratings\n",
        "FROM users u\n",
        "JOIN ratings r ON u.user_id = r.user_id\n",
        "GROUP BY u.city\n",
        "ORDER BY total_ratings DESC\n",
        "LIMIT 2\n",
        "\"\"\").show()\n",
        "\n",
        "spark.sql(\"\"\"\n",
        "SELECT DISTINCT u.name\n",
        "FROM users u\n",
        "JOIN ratings r ON u.user_id = r.user_id\n",
        "WHERE r.rating = 5\n",
        "\"\"\").show()\n",
        "\n",
        "spark.sql(\"\"\"\n",
        "SELECT m.genre, COUNT(r.rating) as total_ratings\n",
        "FROM movies m\n",
        "JOIN ratings r ON m.movie_id = r.movie_id\n",
        "GROUP BY m.genre\n",
        "ORDER BY total_ratings DESC\n",
        "LIMIT 1\n",
        "\"\"\").show()\n"
      ],
      "metadata": {
        "colab": {
          "base_uri": "https://localhost:8080/"
        },
        "id": "8MTXRb2o5Qvv",
        "outputId": "572daf76-0a72-4e1e-9fc4-febcd13a3f26"
      },
      "execution_count": 6,
      "outputs": [
        {
          "output_type": "stream",
          "name": "stdout",
          "text": [
            "+---------+-------------+\n",
            "|     city|total_ratings|\n",
            "+---------+-------------+\n",
            "|Bangalore|            2|\n",
            "|    Delhi|            2|\n",
            "+---------+-------------+\n",
            "\n",
            "+-----+\n",
            "| name|\n",
            "+-----+\n",
            "|Sneha|\n",
            "|Priya|\n",
            "|Rahul|\n",
            "+-----+\n",
            "\n",
            "+------+-------------+\n",
            "| genre|total_ratings|\n",
            "+------+-------------+\n",
            "|Sci-Fi|            4|\n",
            "+------+-------------+\n",
            "\n"
          ]
        }
      ]
    },
    {
      "cell_type": "markdown",
      "source": [
        "## Part E – File I/O\n",
        "Save and reload DataFrames in different formats:  \n",
        "- Save Ratings as CSV  \n",
        "- Save Movies as JSON\n"
      ],
      "metadata": {
        "id": "tz1UoXWL5Uen"
      }
    },
    {
      "cell_type": "code",
      "source": [
        "ratings_df.write.csv(\"/content/ratings_csv\", header=True, mode=\"overwrite\")\n",
        "ratings_csv = spark.read.csv(\"/content/ratings_csv\", header=True, inferSchema=True)\n",
        "\n",
        "movies_df.write.json(\"/content/movies_json\", mode=\"overwrite\")\n",
        "movies_json = spark.read.json(\"/content/movies_json\")\n"
      ],
      "metadata": {
        "id": "756oQNNi5W9f"
      },
      "execution_count": 7,
      "outputs": []
    },
    {
      "cell_type": "markdown",
      "source": [
        "## Part F – Visualization\n",
        "We convert PySpark DataFrames into Pandas and plot:  \n",
        "1. Average rating per genre (Bar chart)  \n",
        "2. Number of ratings per year (Line chart)  \n",
        "3. Age vs Average rating (Scatter plot)\n"
      ],
      "metadata": {
        "id": "_lDRbsBJ5a91"
      }
    },
    {
      "cell_type": "code",
      "source": [
        "import matplotlib.pyplot as plt\n",
        "\n",
        "# Convert to Pandas\n",
        "ratings_movies_pd = ratings_movies.toPandas()\n",
        "ratings_users_pd = ratings_users.toPandas()\n",
        "\n",
        "# Average rating per genre\n",
        "avg_rating_genre = ratings_movies_pd.groupby(\"genre\")[\"rating\"].mean()\n",
        "avg_rating_genre.plot(kind=\"bar\", title=\"Average Rating per Genre\")\n",
        "plt.show()\n"
      ],
      "metadata": {
        "colab": {
          "base_uri": "https://localhost:8080/",
          "height": 515
        },
        "id": "XQPI8DQs5c5-",
        "outputId": "f0ed9d21-a83d-4bec-d1b5-ad75b1f6147d"
      },
      "execution_count": 9,
      "outputs": [
        {
          "output_type": "display_data",
          "data": {
            "text/plain": [
              "<Figure size 640x480 with 1 Axes>"
            ],
            "image/png": "[encoded data removed]"
          },
          "metadata": {}
        }
      ]
    },
    {
      "cell_type": "code",
      "source": [
        "# Ratings per year of release\n",
        "ratings_year = ratings_movies_pd.groupby(\"year\")[\"rating\"].count()\n",
        "ratings_year.plot(kind=\"line\", marker=\"o\", title=\"Ratings per Year of Release\")\n",
        "plt.show()\n"
      ],
      "metadata": {
        "colab": {
          "base_uri": "https://localhost:8080/",
          "height": 472
        },
        "id": "De1LaGCV6Hh2",
        "outputId": "2b320062-1d32-4179-b343-7665ee0168b4"
      },
      "execution_count": 10,
      "outputs": [
        {
          "output_type": "display_data",
          "data": {
            "text/plain": [
              "<Figure size 640x480 with 1 Axes>"
            ],
            "image/png": "[encoded data removed]"
          },
          "metadata": {}
        }
      ]
    },
    {
      "cell_type": "code",
      "source": [
        "# Age vs Average Rating\n",
        "age_rating = ratings_users_pd.groupby(\"age\")[\"rating\"].mean()\n",
        "plt.scatter(age_rating.index, age_rating.values)\n",
        "plt.title(\"Age vs Average Rating\")\n",
        "plt.xlabel(\"Age\")\n",
        "plt.ylabel(\"Average Rating\")\n",
        "plt.show()"
      ],
      "metadata": {
        "colab": {
          "base_uri": "https://localhost:8080/",
          "height": 472
        },
        "id": "s_nR03ld6Kyo",
        "outputId": "c4126c97-fa12-4548-b6c9-1789653e4f6a"
      },
      "execution_count": 11,
      "outputs": [
        {
          "output_type": "display_data",
          "data": {
            "text/plain": [
              "<Figure size 640x480 with 1 Axes>"
            ],
            "image/png": "[encoded data removed]"
          },
          "metadata": {}
        }
      ]
    }
  ]
}
